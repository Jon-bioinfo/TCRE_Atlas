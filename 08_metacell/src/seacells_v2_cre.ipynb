{
 "cells": [
  {
   "cell_type": "code",
   "execution_count": 1,
   "id": "5843b81f",
   "metadata": {},
   "outputs": [],
   "source": [
    "import scanpy as sc\n",
    "import anndata as ad\n",
    "import pandas as pd\n",
    "import numpy as np\n",
    "from scipy.sparse import csr_matrix\n",
    "import matplotlib.pyplot as plt\n",
    "#from tqdm.notebook import tqdm"
   ]
  },
  {
   "cell_type": "code",
   "execution_count": 2,
   "id": "315bd294",
   "metadata": {},
   "outputs": [],
   "source": [
    "def summarize_h5ad(ad, label, use_raw=False):\n",
    "\n",
    "    # Set of metacells\n",
    "    metacells = ad.obs[label].unique()\n",
    "\n",
    "    # Summary matrix\n",
    "    summ_matrix = pd.DataFrame(0.0, index=metacells, columns=ad.var_names)\n",
    "\n",
    "    #for m in tqdm(summ_matrix.index):\n",
    "    for m in summ_matrix.index:\n",
    "        cells = ad.obs_names[ad.obs[label] == m]\n",
    "        if use_raw:\n",
    "            summ_matrix.loc[m, :] = np.ravel(ad[cells, :].raw.X.sum(axis=0))\n",
    "        else:\n",
    "            summ_matrix.loc[m, :] = np.ravel(ad[cells, :].X.sum(axis=0))\n",
    "\n",
    "    # AnnData\n",
    "    meta_ad = sc.AnnData(csr_matrix(summ_matrix), dtype=csr_matrix(summ_matrix).dtype)\n",
    "    meta_ad.obs_names, meta_ad.var_names = summ_matrix.index.astype(str), ad.var_names\n",
    "    return meta_ad"
   ]
  },
  {
   "cell_type": "code",
   "execution_count": 3,
   "id": "e9244501",
   "metadata": {},
   "outputs": [],
   "source": [
    "adata = sc.read('../../06_cre/data/01_load_CRE.h5ad')"
   ]
  },
  {
   "cell_type": "code",
   "execution_count": 5,
   "id": "61dc8b2c",
   "metadata": {},
   "outputs": [],
   "source": [
    "meta = pd.read_csv('../data/metacell_v2.metacells.csv', index_col=0)"
   ]
  },
  {
   "cell_type": "code",
   "execution_count": 6,
   "id": "4148fe1c",
   "metadata": {},
   "outputs": [],
   "source": [
    "adata.obs = pd.merge(adata.obs, meta['mc'], left_index=True, right_index=True, how='left')"
   ]
  },
  {
   "cell_type": "code",
   "execution_count": 7,
   "id": "1bfc116a",
   "metadata": {},
   "outputs": [],
   "source": [
    "adata = summarize_h5ad(adata, 'mc', False)"
   ]
  },
  {
   "cell_type": "code",
   "execution_count": 8,
   "id": "035e59ee",
   "metadata": {},
   "outputs": [],
   "source": [
    "sc.pp.calculate_qc_metrics(adata, inplace=True)"
   ]
  },
  {
   "cell_type": "code",
   "execution_count": 9,
   "id": "a865749f",
   "metadata": {},
   "outputs": [],
   "source": [
    "adata = adata[:, adata.var.n_cells_by_counts >=3]"
   ]
  },
  {
   "cell_type": "code",
   "execution_count": 10,
   "id": "d423ca40",
   "metadata": {},
   "outputs": [],
   "source": [
    "meta.reset_index(inplace=True)"
   ]
  },
  {
   "cell_type": "code",
   "execution_count": 11,
   "id": "dd5cb6d2",
   "metadata": {},
   "outputs": [],
   "source": [
    "del meta['barcode']\n",
    "del meta['SEACell']\n",
    "meta = meta.drop_duplicates()"
   ]
  },
  {
   "cell_type": "code",
   "execution_count": 12,
   "id": "f110ae71",
   "metadata": {},
   "outputs": [],
   "source": [
    "meta = meta.set_index('mc')"
   ]
  },
  {
   "cell_type": "code",
   "execution_count": 13,
   "id": "091b1377",
   "metadata": {},
   "outputs": [],
   "source": [
    "adata.obs = pd.merge(adata.obs, meta, left_index=True, right_index=True, how='left')"
   ]
  },
  {
   "cell_type": "code",
   "execution_count": 14,
   "id": "c17dfc64",
   "metadata": {},
   "outputs": [
    {
     "data": {
      "text/plain": [
       "AnnData object with n_obs × n_vars = 3350 × 171507\n",
       "    obs: 'n_genes_by_counts', 'log1p_n_genes_by_counts', 'total_counts', 'log1p_total_counts', 'pct_counts_in_top_50_genes', 'pct_counts_in_top_100_genes', 'pct_counts_in_top_200_genes', 'pct_counts_in_top_500_genes', 'Narrow_Celltype', 'Broad_Celltype'\n",
       "    var: 'n_cells_by_counts', 'mean_counts', 'log1p_mean_counts', 'pct_dropout_by_counts', 'total_counts', 'log1p_total_counts'"
      ]
     },
     "execution_count": 14,
     "metadata": {},
     "output_type": "execute_result"
    }
   ],
   "source": [
    "adata"
   ]
  },
  {
   "cell_type": "code",
   "execution_count": 15,
   "id": "5b0aea58",
   "metadata": {},
   "outputs": [],
   "source": [
    "adata = adata[sorted(adata.obs_names)]"
   ]
  },
  {
   "cell_type": "code",
   "execution_count": 16,
   "id": "4acc09d7",
   "metadata": {},
   "outputs": [],
   "source": [
    "adata.raw = adata"
   ]
  },
  {
   "cell_type": "code",
   "execution_count": 15,
   "id": "d342b0b4",
   "metadata": {},
   "outputs": [
    {
     "name": "stderr",
     "output_type": "stream",
     "text": [
      "/home/jonathan/miniconda3/envs/env3/lib/python3.8/site-packages/sklearn/manifold/_spectral_embedding.py:260: UserWarning: Graph is not fully connected, spectral embedding may not work as expected.\n",
      "  warnings.warn(\n"
     ]
    }
   ],
   "source": [
    "sc.pp.highly_variable_genes(adata, n_top_genes=2000, \n",
    "                            flavor=\"seurat_v3\")\n",
    "sc.pp.normalize_total(adata)\n",
    "sc.pp.log1p(adata)\n",
    "sc.tl.pca(adata)\n",
    "sc.pp.neighbors(adata, n_pcs=20)\n",
    "sc.tl.umap(adata)"
   ]
  },
  {
   "cell_type": "code",
   "execution_count": null,
   "id": "7ecca894",
   "metadata": {},
   "outputs": [],
   "source": [
    "adata = adata.raw.to_adata()"
   ]
  },
  {
   "cell_type": "code",
   "execution_count": 42,
   "id": "7acbce36",
   "metadata": {},
   "outputs": [],
   "source": [
    "adata.write('../data/metacell_v2_cre.h5ad')"
   ]
  },
  {
   "cell_type": "code",
   "execution_count": 4,
   "id": "d65d8497",
   "metadata": {},
   "outputs": [],
   "source": [
    "adata.obs['umap_1'] = adata.obsm['X_umap'][:,0]\n",
    "adata.obs['umap_2'] = adata.obsm['X_umap'][:,1]"
   ]
  },
  {
   "cell_type": "code",
   "execution_count": 5,
   "id": "8b9e07d3",
   "metadata": {},
   "outputs": [],
   "source": [
    "adata.obs.to_csv('../data/metacell_v2_cre.tsv.gz', index=True, index_label='metacell', sep='\\t')"
   ]
  },
  {
   "cell_type": "code",
   "execution_count": 11,
   "id": "06382aa5",
   "metadata": {},
   "outputs": [],
   "source": [
    "df = adata.X.todense()\n",
    "df = pd.DataFrame(df.T, columns = adata.obs_names, index = adata.var_names)\n",
    "df.to_csv('../data/metacell_v2_cre_sum.csv.gz', index=True, index_label='CRE')\n"
   ]
  },
  {
   "cell_type": "code",
   "execution_count": 3,
   "id": "f7a27267",
   "metadata": {},
   "outputs": [],
   "source": [
    "sc.pp.normalize_total(adata)\n",
    "sc.pp.log1p(adata)"
   ]
  },
  {
   "cell_type": "code",
   "execution_count": 18,
   "id": "770a3a40",
   "metadata": {},
   "outputs": [],
   "source": [
    "df = adata.X.todense()\n",
    "df = pd.DataFrame(df.T, columns = adata.obs_names, index = adata.var_names)\n",
    "df.to_csv('../data/metacell_v2_cre_norm.csv.gz', index=True, index_label='CRE')"
   ]
  },
  {
   "cell_type": "code",
   "execution_count": 11,
   "id": "eb19c1cc",
   "metadata": {},
   "outputs": [],
   "source": [
    "pca = pd.DataFrame(adata.obsm['X_pca'], index=adata.obs_names, columns=[f'PC{x+1}' for x in range(50)])\n",
    "pca.to_csv('../data/metacell_v2_cre_pca.tsv.gz', sep='\\t', index=True, index_label='metacell')"
   ]
  },
  {
   "cell_type": "code",
   "execution_count": null,
   "id": "702f497c",
   "metadata": {},
   "outputs": [],
   "source": []
  }
 ],
 "metadata": {
  "kernelspec": {
   "display_name": "env3",
   "language": "python",
   "name": "python3"
  },
  "language_info": {
   "codemirror_mode": {
    "name": "ipython",
    "version": 3
   },
   "file_extension": ".py",
   "mimetype": "text/x-python",
   "name": "python",
   "nbconvert_exporter": "python",
   "pygments_lexer": "ipython3",
   "version": "3.8.15"
  }
 },
 "nbformat": 4,
 "nbformat_minor": 5
}
