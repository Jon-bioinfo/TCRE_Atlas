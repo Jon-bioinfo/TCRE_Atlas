{
 "cells": [
  {
   "cell_type": "code",
   "execution_count": 16,
   "id": "1f926ec8-1a3b-4a2c-b71e-909de1cf962c",
   "metadata": {},
   "outputs": [],
   "source": [
    "import pandas as pd\n",
    "import plotnine as p\n",
    "import anndata as ad\n",
    "import scanpy as sc\n",
    "import numpy as np\n",
    "import matplotlib as mpl"
   ]
  },
  {
   "cell_type": "code",
   "execution_count": 17,
   "id": "ef3cb91d-df24-4fd2-aef6-7efe64e775dc",
   "metadata": {},
   "outputs": [],
   "source": [
    "df = pd.read_csv(\n",
    "    \"../../05_scafe/data/count_data.tsv\",\n",
    "    sep=\"\\t\",\n",
    "    header=None,\n",
    "    names=[\"project\", \"sample\", \"ctss\", \"barcode\"],\n",
    ")"
   ]
  },
  {
   "cell_type": "code",
   "execution_count": 18,
   "id": "7e17314f-2be1-4f30-abb1-0bba77cc34a2",
   "metadata": {},
   "outputs": [],
   "source": [
    "ahca = pd.read_csv(\"../data/ahca.txt\", header=None, sep=\"\\t\", names=[\"id\", \"organ\"])\n",
    "ahca = dict(zip(ahca[\"id\"], ahca[\"organ\"]))\n",
    "df[\"sample_fix\"] = df[\"sample\"].replace(ahca)\n",
    "df[\"id\"] = df[\"project\"] + \".\" + df[\"sample\"]\n",
    "df[\"id_fix\"] = df[\"project\"] + \".\" + df[\"sample_fix\"]"
   ]
  },
  {
   "cell_type": "code",
   "execution_count": 23,
   "id": "ad5c17c6-2fbd-4b2e-bd48-7f9b5760f1c9",
   "metadata": {},
   "outputs": [],
   "source": [
    "obs = pd.read_csv(\n",
    "    \"../../04_subcluster_v2/data/03_subcluster.tsv\",\n",
    "    sep=\"\\t\",\n",
    "    index_col=0,\n",
    "    low_memory=False,\n",
    ")"
   ]
  },
  {
   "cell_type": "code",
   "execution_count": 24,
   "id": "17d73fca-b3a3-4041-88d0-455477ecdfbd",
   "metadata": {},
   "outputs": [],
   "source": [
    "x = obs.dtypes\n",
    "x = x[x == \"object\"].index\n",
    "obs[x] = obs[x].astype(\"string\")\n",
    "obs[\"id\"] = obs[\"project\"] + \".\" + obs[\"sample\"]\n",
    "df = df.loc[df[\"id_fix\"].isin(obs[\"id\"].unique())]"
   ]
  },
  {
   "cell_type": "code",
   "execution_count": null,
   "id": "9d32fc09-7cfb-41e9-ad32-102763b53a40",
   "metadata": {},
   "outputs": [],
   "source": [
    "adatas = []\n",
    "for i in range(df.shape[0]):\n",
    "    print(i)\n",
    "    filen = df.iloc[i][\"id\"]\n",
    "    adata = sc.read_10x_mtx(f\"../../05_scafe/scafe/merge_all/count/{filen}/matrix/\")\n",
    "    adata.obs_names = df.iloc[i][\"sample_fix\"] + \"_\" + adata.obs_names.str.strip(\"-1\")\n",
    "    adatas.append(adata)"
   ]
  },
  {
   "cell_type": "code",
   "execution_count": 32,
   "id": "f7306cc5-0663-482c-9933-3a92bd4c797e",
   "metadata": {},
   "outputs": [],
   "source": [
    "adata = ad.concat(adatas)"
   ]
  },
  {
   "cell_type": "code",
   "execution_count": 33,
   "id": "4f26d132-da49-4763-809d-0b9efcadcdd9",
   "metadata": {},
   "outputs": [],
   "source": [
    "adata = adata[adata.obs.index.isin(obs.index), :]"
   ]
  },
  {
   "cell_type": "code",
   "execution_count": 34,
   "id": "2aae5014-02fb-4aec-8572-e93070890455",
   "metadata": {},
   "outputs": [],
   "source": [
    "adata.obs = pd.merge(adata.obs, obs, left_index=True, right_index=True)"
   ]
  },
  {
   "cell_type": "code",
   "execution_count": null,
   "id": "7df289d2-89e3-45ef-b677-21fe0cdc4d6b",
   "metadata": {},
   "outputs": [],
   "source": [
    "adata.write(\"../data/01_load_CRE.h5ad\")"
   ]
  },
  {
   "cell_type": "code",
   "execution_count": null,
   "id": "6f347c5b-ac48-4e9b-b73d-75d99392ad07",
   "metadata": {},
   "outputs": [],
   "source": []
  }
 ],
 "metadata": {
  "kernelspec": {
   "display_name": "Python [conda env:env3]",
   "language": "python",
   "name": "conda-env-env3-py"
  },
  "language_info": {
   "codemirror_mode": {
    "name": "ipython",
    "version": 3
   },
   "file_extension": ".py",
   "mimetype": "text/x-python",
   "name": "python",
   "nbconvert_exporter": "python",
   "pygments_lexer": "ipython3",
   "version": "3.8.15"
  }
 },
 "nbformat": 4,
 "nbformat_minor": 5
}
