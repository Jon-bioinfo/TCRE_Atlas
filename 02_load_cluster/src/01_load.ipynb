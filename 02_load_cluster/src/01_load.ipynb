{
 "cells": [
  {
   "cell_type": "code",
   "execution_count": 1,
   "id": "bf902407-ab93-46bc-92b0-6954bd803fed",
   "metadata": {},
   "outputs": [],
   "source": [
    "import pandas as pd\n",
    "import plotnine as p\n",
    "import anndata as ad\n",
    "import scanpy as sc\n",
    "import numpy as np\n",
    "import matplotlib as mpl\n",
    "import bbknn\n",
    "import scanpy.external as sce\n",
    "%matplotlib inline"
   ]
  },
  {
   "cell_type": "code",
   "execution_count": 2,
   "id": "017592ea-0dc7-4c55-89d3-c1e96a7d7c63",
   "metadata": {},
   "outputs": [],
   "source": [
    "df = pd.read_csv('../data/samples_select.tsv', sep='\\t', index_col=False)"
   ]
  },
  {
   "cell_type": "code",
   "execution_count": 3,
   "id": "011d19b5-e2c4-46f5-ab83-9a88872f3495",
   "metadata": {},
   "outputs": [],
   "source": [
    "#df = df.head(5)"
   ]
  },
  {
   "cell_type": "code",
   "execution_count": 4,
   "id": "118e1e58-ccef-4844-aa32-66cca4e1ffda",
   "metadata": {},
   "outputs": [
    {
     "name": "stdout",
     "output_type": "stream",
     "text": [
      "0\n"
     ]
    },
    {
     "name": "stderr",
     "output_type": "stream",
     "text": [
      "Variable names are not unique. To make them unique, call `.var_names_make_unique`.\n",
      "Variable names are not unique. To make them unique, call `.var_names_make_unique`.\n",
      "/home/jonathan/miniconda3/envs/env3/lib/python3.8/site-packages/scanpy/preprocessing/_normalization.py:155: UserWarning: Revieved a view of an AnnData. Making a copy.\n"
     ]
    },
    {
     "name": "stdout",
     "output_type": "stream",
     "text": [
      "Automatically set threshold at doublet score = 0.44\n",
      "Detected doublet rate = 0.0%\n",
      "Estimated detectable doublet fraction = 0.2%\n",
      "Overall doublet rate:\n",
      "\tExpected   = 3.5%\n",
      "\tEstimated  = 22.2%\n",
      "1\n"
     ]
    },
    {
     "name": "stderr",
     "output_type": "stream",
     "text": [
      "Variable names are not unique. To make them unique, call `.var_names_make_unique`.\n",
      "Variable names are not unique. To make them unique, call `.var_names_make_unique`.\n",
      "/home/jonathan/miniconda3/envs/env3/lib/python3.8/site-packages/scanpy/preprocessing/_normalization.py:155: UserWarning: Revieved a view of an AnnData. Making a copy.\n"
     ]
    },
    {
     "name": "stdout",
     "output_type": "stream",
     "text": [
      "Automatically set threshold at doublet score = 0.58\n",
      "Detected doublet rate = 0.1%\n",
      "Estimated detectable doublet fraction = 2.1%\n",
      "Overall doublet rate:\n",
      "\tExpected   = 5.2%\n",
      "\tEstimated  = 5.0%\n",
      "2\n"
     ]
    },
    {
     "name": "stderr",
     "output_type": "stream",
     "text": [
      "Variable names are not unique. To make them unique, call `.var_names_make_unique`.\n",
      "Variable names are not unique. To make them unique, call `.var_names_make_unique`.\n",
      "/home/jonathan/miniconda3/envs/env3/lib/python3.8/site-packages/scanpy/preprocessing/_normalization.py:155: UserWarning: Revieved a view of an AnnData. Making a copy.\n"
     ]
    },
    {
     "name": "stdout",
     "output_type": "stream",
     "text": [
      "Automatically set threshold at doublet score = 0.30\n",
      "Detected doublet rate = 0.9%\n",
      "Estimated detectable doublet fraction = 22.3%\n",
      "Overall doublet rate:\n",
      "\tExpected   = 3.7%\n",
      "\tEstimated  = 4.0%\n",
      "3\n"
     ]
    },
    {
     "name": "stderr",
     "output_type": "stream",
     "text": [
      "Variable names are not unique. To make them unique, call `.var_names_make_unique`.\n",
      "Variable names are not unique. To make them unique, call `.var_names_make_unique`.\n",
      "/home/jonathan/miniconda3/envs/env3/lib/python3.8/site-packages/scanpy/preprocessing/_normalization.py:155: UserWarning: Revieved a view of an AnnData. Making a copy.\n"
     ]
    },
    {
     "name": "stdout",
     "output_type": "stream",
     "text": [
      "Automatically set threshold at doublet score = 0.24\n",
      "Detected doublet rate = 1.0%\n",
      "Estimated detectable doublet fraction = 37.9%\n",
      "Overall doublet rate:\n",
      "\tExpected   = 3.5%\n",
      "\tEstimated  = 2.7%\n",
      "4\n"
     ]
    },
    {
     "name": "stderr",
     "output_type": "stream",
     "text": [
      "Variable names are not unique. To make them unique, call `.var_names_make_unique`.\n",
      "Variable names are not unique. To make them unique, call `.var_names_make_unique`.\n",
      "/home/jonathan/miniconda3/envs/env3/lib/python3.8/site-packages/scanpy/preprocessing/_normalization.py:155: UserWarning: Revieved a view of an AnnData. Making a copy.\n"
     ]
    },
    {
     "name": "stdout",
     "output_type": "stream",
     "text": [
      "Automatically set threshold at doublet score = 0.17\n",
      "Detected doublet rate = 0.3%\n",
      "Estimated detectable doublet fraction = 25.8%\n",
      "Overall doublet rate:\n",
      "\tExpected   = 1.6%\n",
      "\tEstimated  = 1.0%\n",
      "5\n"
     ]
    },
    {
     "name": "stderr",
     "output_type": "stream",
     "text": [
      "Variable names are not unique. To make them unique, call `.var_names_make_unique`.\n",
      "Variable names are not unique. To make them unique, call `.var_names_make_unique`.\n",
      "/home/jonathan/miniconda3/envs/env3/lib/python3.8/site-packages/scanpy/preprocessing/_normalization.py:155: UserWarning: Revieved a view of an AnnData. Making a copy.\n"
     ]
    },
    {
     "name": "stdout",
     "output_type": "stream",
     "text": [
      "Automatically set threshold at doublet score = 0.31\n",
      "Detected doublet rate = 0.6%\n",
      "Estimated detectable doublet fraction = 20.4%\n",
      "Overall doublet rate:\n",
      "\tExpected   = 2.6%\n",
      "\tEstimated  = 2.7%\n",
      "6\n"
     ]
    },
    {
     "name": "stderr",
     "output_type": "stream",
     "text": [
      "Variable names are not unique. To make them unique, call `.var_names_make_unique`.\n",
      "Variable names are not unique. To make them unique, call `.var_names_make_unique`.\n",
      "/home/jonathan/miniconda3/envs/env3/lib/python3.8/site-packages/scanpy/preprocessing/_normalization.py:155: UserWarning: Revieved a view of an AnnData. Making a copy.\n"
     ]
    },
    {
     "name": "stdout",
     "output_type": "stream",
     "text": [
      "Automatically set threshold at doublet score = 0.32\n",
      "Detected doublet rate = 1.8%\n",
      "Estimated detectable doublet fraction = 43.2%\n",
      "Overall doublet rate:\n",
      "\tExpected   = 6.5%\n",
      "\tEstimated  = 4.1%\n",
      "7\n"
     ]
    },
    {
     "name": "stderr",
     "output_type": "stream",
     "text": [
      "Variable names are not unique. To make them unique, call `.var_names_make_unique`.\n",
      "Variable names are not unique. To make them unique, call `.var_names_make_unique`.\n",
      "/home/jonathan/miniconda3/envs/env3/lib/python3.8/site-packages/scanpy/preprocessing/_normalization.py:155: UserWarning: Revieved a view of an AnnData. Making a copy.\n"
     ]
    },
    {
     "name": "stdout",
     "output_type": "stream",
     "text": [
      "Automatically set threshold at doublet score = 0.34\n",
      "Detected doublet rate = 1.2%\n",
      "Estimated detectable doublet fraction = 38.2%\n",
      "Overall doublet rate:\n",
      "\tExpected   = 5.7%\n",
      "\tEstimated  = 3.2%\n",
      "8\n"
     ]
    },
    {
     "name": "stderr",
     "output_type": "stream",
     "text": [
      "Variable names are not unique. To make them unique, call `.var_names_make_unique`.\n",
      "Variable names are not unique. To make them unique, call `.var_names_make_unique`.\n",
      "/home/jonathan/miniconda3/envs/env3/lib/python3.8/site-packages/scanpy/preprocessing/_normalization.py:155: UserWarning: Revieved a view of an AnnData. Making a copy.\n"
     ]
    },
    {
     "name": "stdout",
     "output_type": "stream",
     "text": [
      "Automatically set threshold at doublet score = 0.28\n",
      "Detected doublet rate = 2.5%\n",
      "Estimated detectable doublet fraction = 51.4%\n",
      "Overall doublet rate:\n",
      "\tExpected   = 6.9%\n",
      "\tEstimated  = 4.8%\n",
      "9\n"
     ]
    },
    {
     "name": "stderr",
     "output_type": "stream",
     "text": [
      "Variable names are not unique. To make them unique, call `.var_names_make_unique`.\n",
      "Variable names are not unique. To make them unique, call `.var_names_make_unique`.\n",
      "/home/jonathan/miniconda3/envs/env3/lib/python3.8/site-packages/scanpy/preprocessing/_normalization.py:155: UserWarning: Revieved a view of an AnnData. Making a copy.\n"
     ]
    },
    {
     "name": "stdout",
     "output_type": "stream",
     "text": [
      "Automatically set threshold at doublet score = 0.39\n",
      "Detected doublet rate = 0.5%\n",
      "Estimated detectable doublet fraction = 25.4%\n",
      "Overall doublet rate:\n",
      "\tExpected   = 3.3%\n",
      "\tEstimated  = 2.0%\n",
      "10\n"
     ]
    },
    {
     "name": "stderr",
     "output_type": "stream",
     "text": [
      "Variable names are not unique. To make them unique, call `.var_names_make_unique`.\n",
      "Variable names are not unique. To make them unique, call `.var_names_make_unique`.\n",
      "/home/jonathan/miniconda3/envs/env3/lib/python3.8/site-packages/scanpy/preprocessing/_normalization.py:155: UserWarning: Revieved a view of an AnnData. Making a copy.\n"
     ]
    },
    {
     "name": "stdout",
     "output_type": "stream",
     "text": [
      "Automatically set threshold at doublet score = 0.10\n",
      "Detected doublet rate = 0.1%\n",
      "Estimated detectable doublet fraction = 9.5%\n",
      "Overall doublet rate:\n",
      "\tExpected   = 1.0%\n",
      "\tEstimated  = 0.8%\n",
      "11\n"
     ]
    },
    {
     "name": "stderr",
     "output_type": "stream",
     "text": [
      "Variable names are not unique. To make them unique, call `.var_names_make_unique`.\n",
      "Variable names are not unique. To make them unique, call `.var_names_make_unique`.\n",
      "/home/jonathan/miniconda3/envs/env3/lib/python3.8/site-packages/scanpy/preprocessing/_normalization.py:155: UserWarning: Revieved a view of an AnnData. Making a copy.\n"
     ]
    },
    {
     "name": "stdout",
     "output_type": "stream",
     "text": [
      "Automatically set threshold at doublet score = 0.72\n",
      "Detected doublet rate = 0.0%\n",
      "Estimated detectable doublet fraction = 2.6%\n",
      "Overall doublet rate:\n",
      "\tExpected   = 7.8%\n",
      "\tEstimated  = 0.4%\n",
      "12\n"
     ]
    },
    {
     "name": "stderr",
     "output_type": "stream",
     "text": [
      "Variable names are not unique. To make them unique, call `.var_names_make_unique`.\n",
      "Variable names are not unique. To make them unique, call `.var_names_make_unique`.\n",
      "/home/jonathan/miniconda3/envs/env3/lib/python3.8/site-packages/scanpy/preprocessing/_normalization.py:155: UserWarning: Revieved a view of an AnnData. Making a copy.\n"
     ]
    },
    {
     "name": "stdout",
     "output_type": "stream",
     "text": [
      "Automatically set threshold at doublet score = 0.42\n",
      "Detected doublet rate = 0.2%\n",
      "Estimated detectable doublet fraction = 14.0%\n",
      "Overall doublet rate:\n",
      "\tExpected   = 3.5%\n",
      "\tEstimated  = 1.3%\n",
      "13\n"
     ]
    },
    {
     "name": "stderr",
     "output_type": "stream",
     "text": [
      "Variable names are not unique. To make them unique, call `.var_names_make_unique`.\n",
      "Variable names are not unique. To make them unique, call `.var_names_make_unique`.\n",
      "/home/jonathan/miniconda3/envs/env3/lib/python3.8/site-packages/scanpy/preprocessing/_normalization.py:155: UserWarning: Revieved a view of an AnnData. Making a copy.\n"
     ]
    },
    {
     "name": "stdout",
     "output_type": "stream",
     "text": [
      "Automatically set threshold at doublet score = 0.68\n",
      "Detected doublet rate = 0.0%\n",
      "Estimated detectable doublet fraction = 3.5%\n",
      "Overall doublet rate:\n",
      "\tExpected   = 6.8%\n",
      "\tEstimated  = 0.0%\n",
      "14\n"
     ]
    },
    {
     "name": "stderr",
     "output_type": "stream",
     "text": [
      "Variable names are not unique. To make them unique, call `.var_names_make_unique`.\n",
      "Variable names are not unique. To make them unique, call `.var_names_make_unique`.\n",
      "/home/jonathan/miniconda3/envs/env3/lib/python3.8/site-packages/scanpy/preprocessing/_normalization.py:155: UserWarning: Revieved a view of an AnnData. Making a copy.\n"
     ]
    },
    {
     "name": "stdout",
     "output_type": "stream",
     "text": [
      "Automatically set threshold at doublet score = 0.42\n",
      "Detected doublet rate = 0.6%\n",
      "Estimated detectable doublet fraction = 32.1%\n",
      "Overall doublet rate:\n",
      "\tExpected   = 5.0%\n",
      "\tEstimated  = 1.8%\n",
      "15\n"
     ]
    },
    {
     "name": "stderr",
     "output_type": "stream",
     "text": [
      "Variable names are not unique. To make them unique, call `.var_names_make_unique`.\n",
      "Variable names are not unique. To make them unique, call `.var_names_make_unique`.\n",
      "/home/jonathan/miniconda3/envs/env3/lib/python3.8/site-packages/scanpy/preprocessing/_normalization.py:155: UserWarning: Revieved a view of an AnnData. Making a copy.\n"
     ]
    },
    {
     "name": "stdout",
     "output_type": "stream",
     "text": [
      "Automatically set threshold at doublet score = 0.68\n",
      "Detected doublet rate = 0.2%\n",
      "Estimated detectable doublet fraction = 15.2%\n",
      "Overall doublet rate:\n",
      "\tExpected   = 7.2%\n",
      "\tEstimated  = 1.2%\n",
      "16\n"
     ]
    },
    {
     "name": "stderr",
     "output_type": "stream",
     "text": [
      "Variable names are not unique. To make them unique, call `.var_names_make_unique`.\n",
      "Variable names are not unique. To make them unique, call `.var_names_make_unique`.\n",
      "/home/jonathan/miniconda3/envs/env3/lib/python3.8/site-packages/scanpy/preprocessing/_normalization.py:155: UserWarning: Revieved a view of an AnnData. Making a copy.\n"
     ]
    },
    {
     "name": "stdout",
     "output_type": "stream",
     "text": [
      "Automatically set threshold at doublet score = 0.62\n",
      "Detected doublet rate = 0.2%\n",
      "Estimated detectable doublet fraction = 18.8%\n",
      "Overall doublet rate:\n",
      "\tExpected   = 6.3%\n",
      "\tEstimated  = 0.8%\n",
      "17\n"
     ]
    },
    {
     "name": "stderr",
     "output_type": "stream",
     "text": [
      "Variable names are not unique. To make them unique, call `.var_names_make_unique`.\n",
      "Variable names are not unique. To make them unique, call `.var_names_make_unique`.\n",
      "/home/jonathan/miniconda3/envs/env3/lib/python3.8/site-packages/scanpy/preprocessing/_normalization.py:155: UserWarning: Revieved a view of an AnnData. Making a copy.\n"
     ]
    },
    {
     "name": "stdout",
     "output_type": "stream",
     "text": [
      "Automatically set threshold at doublet score = 0.35\n",
      "Detected doublet rate = 0.3%\n",
      "Estimated detectable doublet fraction = 20.5%\n",
      "Overall doublet rate:\n",
      "\tExpected   = 2.8%\n",
      "\tEstimated  = 1.5%\n",
      "18\n"
     ]
    },
    {
     "name": "stderr",
     "output_type": "stream",
     "text": [
      "Variable names are not unique. To make them unique, call `.var_names_make_unique`.\n",
      "Variable names are not unique. To make them unique, call `.var_names_make_unique`.\n",
      "/home/jonathan/miniconda3/envs/env3/lib/python3.8/site-packages/scanpy/preprocessing/_normalization.py:155: UserWarning: Revieved a view of an AnnData. Making a copy.\n"
     ]
    },
    {
     "name": "stdout",
     "output_type": "stream",
     "text": [
      "Automatically set threshold at doublet score = 0.25\n",
      "Detected doublet rate = 1.2%\n",
      "Estimated detectable doublet fraction = 55.6%\n",
      "Overall doublet rate:\n",
      "\tExpected   = 4.4%\n",
      "\tEstimated  = 2.1%\n",
      "19\n"
     ]
    },
    {
     "name": "stderr",
     "output_type": "stream",
     "text": [
      "Variable names are not unique. To make them unique, call `.var_names_make_unique`.\n",
      "Variable names are not unique. To make them unique, call `.var_names_make_unique`.\n",
      "/home/jonathan/miniconda3/envs/env3/lib/python3.8/site-packages/scanpy/preprocessing/_normalization.py:155: UserWarning: Revieved a view of an AnnData. Making a copy.\n"
     ]
    },
    {
     "name": "stdout",
     "output_type": "stream",
     "text": [
      "Automatically set threshold at doublet score = 0.43\n",
      "Detected doublet rate = 0.3%\n",
      "Estimated detectable doublet fraction = 31.3%\n",
      "Overall doublet rate:\n",
      "\tExpected   = 3.6%\n",
      "\tEstimated  = 0.9%\n",
      "20\n"
     ]
    },
    {
     "name": "stderr",
     "output_type": "stream",
     "text": [
      "Variable names are not unique. To make them unique, call `.var_names_make_unique`.\n",
      "Variable names are not unique. To make them unique, call `.var_names_make_unique`.\n",
      "/home/jonathan/miniconda3/envs/env3/lib/python3.8/site-packages/scanpy/preprocessing/_normalization.py:155: UserWarning: Revieved a view of an AnnData. Making a copy.\n"
     ]
    },
    {
     "name": "stdout",
     "output_type": "stream",
     "text": [
      "Automatically set threshold at doublet score = 0.42\n",
      "Detected doublet rate = 0.3%\n",
      "Estimated detectable doublet fraction = 29.0%\n",
      "Overall doublet rate:\n",
      "\tExpected   = 3.7%\n",
      "\tEstimated  = 1.1%\n",
      "21\n"
     ]
    },
    {
     "name": "stderr",
     "output_type": "stream",
     "text": [
      "Variable names are not unique. To make them unique, call `.var_names_make_unique`.\n",
      "Variable names are not unique. To make them unique, call `.var_names_make_unique`.\n",
      "/home/jonathan/miniconda3/envs/env3/lib/python3.8/site-packages/scanpy/preprocessing/_normalization.py:155: UserWarning: Revieved a view of an AnnData. Making a copy.\n"
     ]
    },
    {
     "name": "stdout",
     "output_type": "stream",
     "text": [
      "Automatically set threshold at doublet score = 0.29\n",
      "Detected doublet rate = 0.1%\n",
      "Estimated detectable doublet fraction = 3.0%\n",
      "Overall doublet rate:\n",
      "\tExpected   = 2.4%\n",
      "\tEstimated  = 3.3%\n",
      "22\n"
     ]
    },
    {
     "name": "stderr",
     "output_type": "stream",
     "text": [
      "Variable names are not unique. To make them unique, call `.var_names_make_unique`.\n",
      "Variable names are not unique. To make them unique, call `.var_names_make_unique`.\n",
      "/home/jonathan/miniconda3/envs/env3/lib/python3.8/site-packages/scanpy/preprocessing/_normalization.py:155: UserWarning: Revieved a view of an AnnData. Making a copy.\n"
     ]
    },
    {
     "name": "stdout",
     "output_type": "stream",
     "text": [
      "Automatically set threshold at doublet score = 0.44\n",
      "Detected doublet rate = 0.5%\n",
      "Estimated detectable doublet fraction = 14.5%\n",
      "Overall doublet rate:\n",
      "\tExpected   = 3.8%\n",
      "\tEstimated  = 3.6%\n",
      "23\n"
     ]
    },
    {
     "name": "stderr",
     "output_type": "stream",
     "text": [
      "Variable names are not unique. To make them unique, call `.var_names_make_unique`.\n",
      "Variable names are not unique. To make them unique, call `.var_names_make_unique`.\n",
      "/home/jonathan/miniconda3/envs/env3/lib/python3.8/site-packages/scanpy/preprocessing/_normalization.py:155: UserWarning: Revieved a view of an AnnData. Making a copy.\n"
     ]
    },
    {
     "name": "stdout",
     "output_type": "stream",
     "text": [
      "Automatically set threshold at doublet score = 0.37\n",
      "Detected doublet rate = 0.3%\n",
      "Estimated detectable doublet fraction = 19.3%\n",
      "Overall doublet rate:\n",
      "\tExpected   = 3.0%\n",
      "\tEstimated  = 1.4%\n",
      "24\n"
     ]
    },
    {
     "name": "stderr",
     "output_type": "stream",
     "text": [
      "Variable names are not unique. To make them unique, call `.var_names_make_unique`.\n",
      "Variable names are not unique. To make them unique, call `.var_names_make_unique`.\n",
      "/home/jonathan/miniconda3/envs/env3/lib/python3.8/site-packages/scanpy/preprocessing/_normalization.py:155: UserWarning: Revieved a view of an AnnData. Making a copy.\n"
     ]
    },
    {
     "name": "stdout",
     "output_type": "stream",
     "text": [
      "Automatically set threshold at doublet score = 0.56\n",
      "Detected doublet rate = 0.1%\n",
      "Estimated detectable doublet fraction = 10.6%\n",
      "Overall doublet rate:\n",
      "\tExpected   = 5.0%\n",
      "\tEstimated  = 1.4%\n",
      "25\n"
     ]
    },
    {
     "name": "stderr",
     "output_type": "stream",
     "text": [
      "Variable names are not unique. To make them unique, call `.var_names_make_unique`.\n",
      "Variable names are not unique. To make them unique, call `.var_names_make_unique`.\n",
      "/home/jonathan/miniconda3/envs/env3/lib/python3.8/site-packages/scanpy/preprocessing/_normalization.py:155: UserWarning: Revieved a view of an AnnData. Making a copy.\n"
     ]
    },
    {
     "name": "stdout",
     "output_type": "stream",
     "text": [
      "Automatically set threshold at doublet score = 0.25\n",
      "Detected doublet rate = 0.3%\n",
      "Estimated detectable doublet fraction = 33.6%\n",
      "Overall doublet rate:\n",
      "\tExpected   = 2.2%\n",
      "\tEstimated  = 0.8%\n",
      "26\n"
     ]
    },
    {
     "name": "stderr",
     "output_type": "stream",
     "text": [
      "Variable names are not unique. To make them unique, call `.var_names_make_unique`.\n",
      "Variable names are not unique. To make them unique, call `.var_names_make_unique`.\n",
      "/home/jonathan/miniconda3/envs/env3/lib/python3.8/site-packages/scanpy/preprocessing/_normalization.py:155: UserWarning: Revieved a view of an AnnData. Making a copy.\n"
     ]
    },
    {
     "name": "stdout",
     "output_type": "stream",
     "text": [
      "Automatically set threshold at doublet score = 0.31\n",
      "Detected doublet rate = 0.5%\n",
      "Estimated detectable doublet fraction = 23.5%\n",
      "Overall doublet rate:\n",
      "\tExpected   = 2.6%\n",
      "\tEstimated  = 2.0%\n",
      "27\n"
     ]
    },
    {
     "name": "stderr",
     "output_type": "stream",
     "text": [
      "Variable names are not unique. To make them unique, call `.var_names_make_unique`.\n",
      "Variable names are not unique. To make them unique, call `.var_names_make_unique`.\n",
      "/home/jonathan/miniconda3/envs/env3/lib/python3.8/site-packages/scanpy/preprocessing/_normalization.py:155: UserWarning: Revieved a view of an AnnData. Making a copy.\n"
     ]
    },
    {
     "name": "stdout",
     "output_type": "stream",
     "text": [
      "Automatically set threshold at doublet score = 0.17\n",
      "Detected doublet rate = 0.6%\n",
      "Estimated detectable doublet fraction = 25.8%\n",
      "Overall doublet rate:\n",
      "\tExpected   = 1.6%\n",
      "\tEstimated  = 2.2%\n",
      "28\n"
     ]
    },
    {
     "name": "stderr",
     "output_type": "stream",
     "text": [
      "Variable names are not unique. To make them unique, call `.var_names_make_unique`.\n",
      "Variable names are not unique. To make them unique, call `.var_names_make_unique`.\n",
      "/home/jonathan/miniconda3/envs/env3/lib/python3.8/site-packages/scanpy/preprocessing/_normalization.py:155: UserWarning: Revieved a view of an AnnData. Making a copy.\n"
     ]
    },
    {
     "name": "stdout",
     "output_type": "stream",
     "text": [
      "Automatically set threshold at doublet score = 0.26\n",
      "Detected doublet rate = 0.4%\n",
      "Estimated detectable doublet fraction = 12.2%\n",
      "Overall doublet rate:\n",
      "\tExpected   = 2.2%\n",
      "\tEstimated  = 3.0%\n",
      "29\n"
     ]
    },
    {
     "name": "stderr",
     "output_type": "stream",
     "text": [
      "Variable names are not unique. To make them unique, call `.var_names_make_unique`.\n",
      "Variable names are not unique. To make them unique, call `.var_names_make_unique`.\n",
      "/home/jonathan/miniconda3/envs/env3/lib/python3.8/site-packages/scanpy/preprocessing/_normalization.py:155: UserWarning: Revieved a view of an AnnData. Making a copy.\n"
     ]
    },
    {
     "name": "stdout",
     "output_type": "stream",
     "text": [
      "Automatically set threshold at doublet score = 0.14\n",
      "Detected doublet rate = 0.4%\n",
      "Estimated detectable doublet fraction = 26.8%\n",
      "Overall doublet rate:\n",
      "\tExpected   = 1.3%\n",
      "\tEstimated  = 1.4%\n",
      "30\n"
     ]
    },
    {
     "name": "stderr",
     "output_type": "stream",
     "text": [
      "Variable names are not unique. To make them unique, call `.var_names_make_unique`.\n",
      "Variable names are not unique. To make them unique, call `.var_names_make_unique`.\n",
      "/home/jonathan/miniconda3/envs/env3/lib/python3.8/site-packages/scanpy/preprocessing/_normalization.py:155: UserWarning: Revieved a view of an AnnData. Making a copy.\n"
     ]
    },
    {
     "name": "stdout",
     "output_type": "stream",
     "text": [
      "Automatically set threshold at doublet score = 0.14\n",
      "Detected doublet rate = 0.3%\n",
      "Estimated detectable doublet fraction = 11.0%\n",
      "Overall doublet rate:\n",
      "\tExpected   = 1.3%\n",
      "\tEstimated  = 2.9%\n",
      "31\n"
     ]
    },
    {
     "name": "stderr",
     "output_type": "stream",
     "text": [
      "Variable names are not unique. To make them unique, call `.var_names_make_unique`.\n",
      "Variable names are not unique. To make them unique, call `.var_names_make_unique`.\n",
      "/home/jonathan/miniconda3/envs/env3/lib/python3.8/site-packages/scanpy/preprocessing/_normalization.py:155: UserWarning: Revieved a view of an AnnData. Making a copy.\n"
     ]
    },
    {
     "name": "stdout",
     "output_type": "stream",
     "text": [
      "Automatically set threshold at doublet score = 0.29\n",
      "Detected doublet rate = 0.2%\n",
      "Estimated detectable doublet fraction = 32.6%\n",
      "Overall doublet rate:\n",
      "\tExpected   = 2.6%\n",
      "\tEstimated  = 0.6%\n",
      "32\n"
     ]
    },
    {
     "name": "stderr",
     "output_type": "stream",
     "text": [
      "Variable names are not unique. To make them unique, call `.var_names_make_unique`.\n",
      "Variable names are not unique. To make them unique, call `.var_names_make_unique`.\n",
      "/home/jonathan/miniconda3/envs/env3/lib/python3.8/site-packages/scanpy/preprocessing/_normalization.py:155: UserWarning: Revieved a view of an AnnData. Making a copy.\n"
     ]
    },
    {
     "name": "stdout",
     "output_type": "stream",
     "text": [
      "Automatically set threshold at doublet score = 0.33\n",
      "Detected doublet rate = 0.1%\n",
      "Estimated detectable doublet fraction = 14.4%\n",
      "Overall doublet rate:\n",
      "\tExpected   = 2.8%\n",
      "\tEstimated  = 0.8%\n",
      "33\n"
     ]
    },
    {
     "name": "stderr",
     "output_type": "stream",
     "text": [
      "Variable names are not unique. To make them unique, call `.var_names_make_unique`.\n",
      "Variable names are not unique. To make them unique, call `.var_names_make_unique`.\n",
      "/home/jonathan/miniconda3/envs/env3/lib/python3.8/site-packages/scanpy/preprocessing/_normalization.py:155: UserWarning: Revieved a view of an AnnData. Making a copy.\n"
     ]
    },
    {
     "name": "stdout",
     "output_type": "stream",
     "text": [
      "Automatically set threshold at doublet score = 0.39\n",
      "Detected doublet rate = 0.6%\n",
      "Estimated detectable doublet fraction = 35.1%\n",
      "Overall doublet rate:\n",
      "\tExpected   = 4.8%\n",
      "\tEstimated  = 1.7%\n",
      "34\n"
     ]
    },
    {
     "name": "stderr",
     "output_type": "stream",
     "text": [
      "Variable names are not unique. To make them unique, call `.var_names_make_unique`.\n",
      "Variable names are not unique. To make them unique, call `.var_names_make_unique`.\n",
      "/home/jonathan/miniconda3/envs/env3/lib/python3.8/site-packages/scanpy/preprocessing/_normalization.py:155: UserWarning: Revieved a view of an AnnData. Making a copy.\n"
     ]
    },
    {
     "name": "stdout",
     "output_type": "stream",
     "text": [
      "Automatically set threshold at doublet score = 0.24\n",
      "Detected doublet rate = 0.2%\n",
      "Estimated detectable doublet fraction = 7.4%\n",
      "Overall doublet rate:\n",
      "\tExpected   = 2.0%\n",
      "\tEstimated  = 3.1%\n",
      "35\n"
     ]
    },
    {
     "name": "stderr",
     "output_type": "stream",
     "text": [
      "Variable names are not unique. To make them unique, call `.var_names_make_unique`.\n",
      "Variable names are not unique. To make them unique, call `.var_names_make_unique`.\n",
      "/home/jonathan/miniconda3/envs/env3/lib/python3.8/site-packages/scanpy/preprocessing/_normalization.py:155: UserWarning: Revieved a view of an AnnData. Making a copy.\n"
     ]
    },
    {
     "name": "stdout",
     "output_type": "stream",
     "text": [
      "Automatically set threshold at doublet score = 0.48\n",
      "Detected doublet rate = 0.2%\n",
      "Estimated detectable doublet fraction = 12.5%\n",
      "Overall doublet rate:\n",
      "\tExpected   = 4.1%\n",
      "\tEstimated  = 1.7%\n",
      "36\n"
     ]
    },
    {
     "name": "stderr",
     "output_type": "stream",
     "text": [
      "Variable names are not unique. To make them unique, call `.var_names_make_unique`.\n",
      "Variable names are not unique. To make them unique, call `.var_names_make_unique`.\n",
      "/home/jonathan/miniconda3/envs/env3/lib/python3.8/site-packages/scanpy/preprocessing/_normalization.py:155: UserWarning: Revieved a view of an AnnData. Making a copy.\n"
     ]
    },
    {
     "name": "stdout",
     "output_type": "stream",
     "text": [
      "Automatically set threshold at doublet score = 0.32\n",
      "Detected doublet rate = 0.0%\n",
      "Estimated detectable doublet fraction = 1.0%\n",
      "Overall doublet rate:\n",
      "\tExpected   = 2.6%\n",
      "\tEstimated  = 2.9%\n",
      "37\n"
     ]
    },
    {
     "name": "stderr",
     "output_type": "stream",
     "text": [
      "Variable names are not unique. To make them unique, call `.var_names_make_unique`.\n",
      "Variable names are not unique. To make them unique, call `.var_names_make_unique`.\n",
      "/home/jonathan/miniconda3/envs/env3/lib/python3.8/site-packages/scanpy/preprocessing/_normalization.py:155: UserWarning: Revieved a view of an AnnData. Making a copy.\n"
     ]
    },
    {
     "name": "stdout",
     "output_type": "stream",
     "text": [
      "Automatically set threshold at doublet score = 0.59\n",
      "Detected doublet rate = 0.1%\n",
      "Estimated detectable doublet fraction = 12.8%\n",
      "Overall doublet rate:\n",
      "\tExpected   = 5.7%\n",
      "\tEstimated  = 1.0%\n",
      "38\n"
     ]
    },
    {
     "name": "stderr",
     "output_type": "stream",
     "text": [
      "Variable names are not unique. To make them unique, call `.var_names_make_unique`.\n",
      "Variable names are not unique. To make them unique, call `.var_names_make_unique`.\n",
      "/home/jonathan/miniconda3/envs/env3/lib/python3.8/site-packages/scanpy/preprocessing/_normalization.py:155: UserWarning: Revieved a view of an AnnData. Making a copy.\n"
     ]
    },
    {
     "name": "stdout",
     "output_type": "stream",
     "text": [
      "Automatically set threshold at doublet score = 0.50\n",
      "Detected doublet rate = 0.3%\n",
      "Estimated detectable doublet fraction = 8.6%\n",
      "Overall doublet rate:\n",
      "\tExpected   = 4.3%\n",
      "\tEstimated  = 3.5%\n",
      "39\n"
     ]
    },
    {
     "name": "stderr",
     "output_type": "stream",
     "text": [
      "Variable names are not unique. To make them unique, call `.var_names_make_unique`.\n",
      "Variable names are not unique. To make them unique, call `.var_names_make_unique`.\n",
      "/home/jonathan/miniconda3/envs/env3/lib/python3.8/site-packages/scanpy/preprocessing/_normalization.py:155: UserWarning: Revieved a view of an AnnData. Making a copy.\n"
     ]
    },
    {
     "name": "stdout",
     "output_type": "stream",
     "text": [
      "Automatically set threshold at doublet score = 0.44\n",
      "Detected doublet rate = 0.2%\n",
      "Estimated detectable doublet fraction = 4.6%\n",
      "Overall doublet rate:\n",
      "\tExpected   = 3.7%\n",
      "\tEstimated  = 3.8%\n",
      "40\n"
     ]
    },
    {
     "name": "stderr",
     "output_type": "stream",
     "text": [
      "Variable names are not unique. To make them unique, call `.var_names_make_unique`.\n",
      "Variable names are not unique. To make them unique, call `.var_names_make_unique`.\n",
      "/home/jonathan/miniconda3/envs/env3/lib/python3.8/site-packages/scanpy/preprocessing/_normalization.py:155: UserWarning: Revieved a view of an AnnData. Making a copy.\n"
     ]
    },
    {
     "name": "stdout",
     "output_type": "stream",
     "text": [
      "Automatically set threshold at doublet score = 0.65\n",
      "Detected doublet rate = 0.1%\n",
      "Estimated detectable doublet fraction = 7.6%\n",
      "Overall doublet rate:\n",
      "\tExpected   = 6.5%\n",
      "\tEstimated  = 1.3%\n",
      "41\n"
     ]
    },
    {
     "name": "stderr",
     "output_type": "stream",
     "text": [
      "Variable names are not unique. To make them unique, call `.var_names_make_unique`.\n",
      "Variable names are not unique. To make them unique, call `.var_names_make_unique`.\n",
      "/home/jonathan/miniconda3/envs/env3/lib/python3.8/site-packages/scanpy/preprocessing/_normalization.py:155: UserWarning: Revieved a view of an AnnData. Making a copy.\n"
     ]
    },
    {
     "name": "stdout",
     "output_type": "stream",
     "text": [
      "Automatically set threshold at doublet score = 0.59\n",
      "Detected doublet rate = 0.0%\n",
      "Estimated detectable doublet fraction = 0.8%\n",
      "Overall doublet rate:\n",
      "\tExpected   = 5.3%\n",
      "\tEstimated  = 3.8%\n",
      "42\n"
     ]
    },
    {
     "name": "stderr",
     "output_type": "stream",
     "text": [
      "Variable names are not unique. To make them unique, call `.var_names_make_unique`.\n",
      "Variable names are not unique. To make them unique, call `.var_names_make_unique`.\n",
      "/home/jonathan/miniconda3/envs/env3/lib/python3.8/site-packages/scanpy/preprocessing/_normalization.py:155: UserWarning: Revieved a view of an AnnData. Making a copy.\n"
     ]
    },
    {
     "name": "stdout",
     "output_type": "stream",
     "text": [
      "Automatically set threshold at doublet score = 0.23\n",
      "Detected doublet rate = 0.3%\n",
      "Estimated detectable doublet fraction = 26.1%\n",
      "Overall doublet rate:\n",
      "\tExpected   = 2.0%\n",
      "\tEstimated  = 1.1%\n",
      "43\n"
     ]
    },
    {
     "name": "stderr",
     "output_type": "stream",
     "text": [
      "Variable names are not unique. To make them unique, call `.var_names_make_unique`.\n",
      "Variable names are not unique. To make them unique, call `.var_names_make_unique`.\n",
      "/home/jonathan/miniconda3/envs/env3/lib/python3.8/site-packages/scanpy/preprocessing/_normalization.py:155: UserWarning: Revieved a view of an AnnData. Making a copy.\n"
     ]
    },
    {
     "name": "stdout",
     "output_type": "stream",
     "text": [
      "Automatically set threshold at doublet score = 0.22\n",
      "Detected doublet rate = 0.0%\n",
      "Estimated detectable doublet fraction = 8.7%\n",
      "Overall doublet rate:\n",
      "\tExpected   = 1.9%\n",
      "\tEstimated  = 0.0%\n",
      "44\n"
     ]
    },
    {
     "name": "stderr",
     "output_type": "stream",
     "text": [
      "Variable names are not unique. To make them unique, call `.var_names_make_unique`.\n",
      "Variable names are not unique. To make them unique, call `.var_names_make_unique`.\n",
      "/home/jonathan/miniconda3/envs/env3/lib/python3.8/site-packages/scanpy/preprocessing/_normalization.py:155: UserWarning: Revieved a view of an AnnData. Making a copy.\n"
     ]
    },
    {
     "name": "stdout",
     "output_type": "stream",
     "text": [
      "Automatically set threshold at doublet score = 0.47\n",
      "Detected doublet rate = 0.2%\n",
      "Estimated detectable doublet fraction = 6.5%\n",
      "Overall doublet rate:\n",
      "\tExpected   = 4.0%\n",
      "\tEstimated  = 2.8%\n",
      "45\n"
     ]
    },
    {
     "name": "stderr",
     "output_type": "stream",
     "text": [
      "Variable names are not unique. To make them unique, call `.var_names_make_unique`.\n",
      "Variable names are not unique. To make them unique, call `.var_names_make_unique`.\n",
      "/home/jonathan/miniconda3/envs/env3/lib/python3.8/site-packages/scanpy/preprocessing/_normalization.py:155: UserWarning: Revieved a view of an AnnData. Making a copy.\n"
     ]
    },
    {
     "name": "stdout",
     "output_type": "stream",
     "text": [
      "Automatically set threshold at doublet score = 0.22\n",
      "Detected doublet rate = 0.2%\n",
      "Estimated detectable doublet fraction = 0.6%\n",
      "Overall doublet rate:\n",
      "\tExpected   = 2.3%\n",
      "\tEstimated  = 27.0%\n",
      "46\n"
     ]
    },
    {
     "name": "stderr",
     "output_type": "stream",
     "text": [
      "Variable names are not unique. To make them unique, call `.var_names_make_unique`.\n",
      "Variable names are not unique. To make them unique, call `.var_names_make_unique`.\n",
      "/home/jonathan/miniconda3/envs/env3/lib/python3.8/site-packages/scanpy/preprocessing/_normalization.py:155: UserWarning: Revieved a view of an AnnData. Making a copy.\n"
     ]
    },
    {
     "name": "stdout",
     "output_type": "stream",
     "text": [
      "Automatically set threshold at doublet score = 0.32\n",
      "Detected doublet rate = 0.2%\n",
      "Estimated detectable doublet fraction = 19.9%\n",
      "Overall doublet rate:\n",
      "\tExpected   = 2.7%\n",
      "\tEstimated  = 1.1%\n",
      "47\n"
     ]
    },
    {
     "name": "stderr",
     "output_type": "stream",
     "text": [
      "Variable names are not unique. To make them unique, call `.var_names_make_unique`.\n",
      "Variable names are not unique. To make them unique, call `.var_names_make_unique`.\n",
      "/home/jonathan/miniconda3/envs/env3/lib/python3.8/site-packages/scanpy/preprocessing/_normalization.py:155: UserWarning: Revieved a view of an AnnData. Making a copy.\n"
     ]
    },
    {
     "name": "stdout",
     "output_type": "stream",
     "text": [
      "Automatically set threshold at doublet score = 0.17\n",
      "Detected doublet rate = 0.4%\n",
      "Estimated detectable doublet fraction = 39.1%\n",
      "Overall doublet rate:\n",
      "\tExpected   = 1.5%\n",
      "\tEstimated  = 1.1%\n",
      "48\n"
     ]
    },
    {
     "name": "stderr",
     "output_type": "stream",
     "text": [
      "Variable names are not unique. To make them unique, call `.var_names_make_unique`.\n",
      "Variable names are not unique. To make them unique, call `.var_names_make_unique`.\n",
      "/home/jonathan/miniconda3/envs/env3/lib/python3.8/site-packages/scanpy/preprocessing/_normalization.py:155: UserWarning: Revieved a view of an AnnData. Making a copy.\n"
     ]
    },
    {
     "name": "stdout",
     "output_type": "stream",
     "text": [
      "Automatically set threshold at doublet score = 0.29\n",
      "Detected doublet rate = 4.9%\n",
      "Estimated detectable doublet fraction = 49.1%\n",
      "Overall doublet rate:\n",
      "\tExpected   = 7.9%\n",
      "\tEstimated  = 10.0%\n",
      "49\n"
     ]
    },
    {
     "name": "stderr",
     "output_type": "stream",
     "text": [
      "Variable names are not unique. To make them unique, call `.var_names_make_unique`.\n",
      "Variable names are not unique. To make them unique, call `.var_names_make_unique`.\n",
      "/home/jonathan/miniconda3/envs/env3/lib/python3.8/site-packages/scanpy/preprocessing/_normalization.py:155: UserWarning: Revieved a view of an AnnData. Making a copy.\n"
     ]
    },
    {
     "name": "stdout",
     "output_type": "stream",
     "text": [
      "Automatically set threshold at doublet score = 0.20\n",
      "Detected doublet rate = 4.6%\n",
      "Estimated detectable doublet fraction = 62.2%\n",
      "Overall doublet rate:\n",
      "\tExpected   = 5.5%\n",
      "\tEstimated  = 7.4%\n",
      "50\n"
     ]
    },
    {
     "name": "stderr",
     "output_type": "stream",
     "text": [
      "Variable names are not unique. To make them unique, call `.var_names_make_unique`.\n",
      "Variable names are not unique. To make them unique, call `.var_names_make_unique`.\n",
      "/home/jonathan/miniconda3/envs/env3/lib/python3.8/site-packages/scanpy/preprocessing/_normalization.py:155: UserWarning: Revieved a view of an AnnData. Making a copy.\n"
     ]
    },
    {
     "name": "stdout",
     "output_type": "stream",
     "text": [
      "Automatically set threshold at doublet score = 0.30\n",
      "Detected doublet rate = 5.6%\n",
      "Estimated detectable doublet fraction = 49.7%\n",
      "Overall doublet rate:\n",
      "\tExpected   = 8.9%\n",
      "\tEstimated  = 11.3%\n",
      "51\n"
     ]
    },
    {
     "name": "stderr",
     "output_type": "stream",
     "text": [
      "Variable names are not unique. To make them unique, call `.var_names_make_unique`.\n",
      "Variable names are not unique. To make them unique, call `.var_names_make_unique`.\n",
      "/home/jonathan/miniconda3/envs/env3/lib/python3.8/site-packages/scanpy/preprocessing/_normalization.py:155: UserWarning: Revieved a view of an AnnData. Making a copy.\n"
     ]
    },
    {
     "name": "stdout",
     "output_type": "stream",
     "text": [
      "Automatically set threshold at doublet score = 0.18\n",
      "Detected doublet rate = 3.0%\n",
      "Estimated detectable doublet fraction = 49.6%\n",
      "Overall doublet rate:\n",
      "\tExpected   = 3.9%\n",
      "\tEstimated  = 6.0%\n",
      "52\n"
     ]
    },
    {
     "name": "stderr",
     "output_type": "stream",
     "text": [
      "Variable names are not unique. To make them unique, call `.var_names_make_unique`.\n",
      "Variable names are not unique. To make them unique, call `.var_names_make_unique`.\n",
      "/home/jonathan/miniconda3/envs/env3/lib/python3.8/site-packages/scanpy/preprocessing/_normalization.py:155: UserWarning: Revieved a view of an AnnData. Making a copy.\n"
     ]
    },
    {
     "name": "stdout",
     "output_type": "stream",
     "text": [
      "Automatically set threshold at doublet score = 0.33\n",
      "Detected doublet rate = 0.2%\n",
      "Estimated detectable doublet fraction = 39.2%\n",
      "Overall doublet rate:\n",
      "\tExpected   = 3.0%\n",
      "\tEstimated  = 0.5%\n",
      "53\n"
     ]
    },
    {
     "name": "stderr",
     "output_type": "stream",
     "text": [
      "Variable names are not unique. To make them unique, call `.var_names_make_unique`.\n",
      "Variable names are not unique. To make them unique, call `.var_names_make_unique`.\n",
      "/home/jonathan/miniconda3/envs/env3/lib/python3.8/site-packages/scanpy/preprocessing/_normalization.py:155: UserWarning: Revieved a view of an AnnData. Making a copy.\n"
     ]
    },
    {
     "name": "stdout",
     "output_type": "stream",
     "text": [
      "Automatically set threshold at doublet score = 0.28\n",
      "Detected doublet rate = 3.0%\n",
      "Estimated detectable doublet fraction = 60.5%\n",
      "Overall doublet rate:\n",
      "\tExpected   = 9.1%\n",
      "\tEstimated  = 5.0%\n",
      "54\n"
     ]
    },
    {
     "name": "stderr",
     "output_type": "stream",
     "text": [
      "Variable names are not unique. To make them unique, call `.var_names_make_unique`.\n",
      "Variable names are not unique. To make them unique, call `.var_names_make_unique`.\n",
      "/home/jonathan/miniconda3/envs/env3/lib/python3.8/site-packages/scanpy/preprocessing/_normalization.py:155: UserWarning: Revieved a view of an AnnData. Making a copy.\n"
     ]
    },
    {
     "name": "stdout",
     "output_type": "stream",
     "text": [
      "Automatically set threshold at doublet score = 0.14\n",
      "Detected doublet rate = 0.6%\n",
      "Estimated detectable doublet fraction = 12.8%\n",
      "Overall doublet rate:\n",
      "\tExpected   = 1.3%\n",
      "\tEstimated  = 4.8%\n",
      "55\n"
     ]
    },
    {
     "name": "stderr",
     "output_type": "stream",
     "text": [
      "Variable names are not unique. To make them unique, call `.var_names_make_unique`.\n",
      "Variable names are not unique. To make them unique, call `.var_names_make_unique`.\n",
      "/home/jonathan/miniconda3/envs/env3/lib/python3.8/site-packages/scanpy/preprocessing/_normalization.py:155: UserWarning: Revieved a view of an AnnData. Making a copy.\n"
     ]
    },
    {
     "name": "stdout",
     "output_type": "stream",
     "text": [
      "Automatically set threshold at doublet score = 0.28\n",
      "Detected doublet rate = 4.1%\n",
      "Estimated detectable doublet fraction = 64.4%\n",
      "Overall doublet rate:\n",
      "\tExpected   = 9.8%\n",
      "\tEstimated  = 6.4%\n",
      "56\n"
     ]
    },
    {
     "name": "stderr",
     "output_type": "stream",
     "text": [
      "Variable names are not unique. To make them unique, call `.var_names_make_unique`.\n",
      "Variable names are not unique. To make them unique, call `.var_names_make_unique`.\n",
      "/home/jonathan/miniconda3/envs/env3/lib/python3.8/site-packages/scanpy/preprocessing/_normalization.py:155: UserWarning: Revieved a view of an AnnData. Making a copy.\n"
     ]
    },
    {
     "name": "stdout",
     "output_type": "stream",
     "text": [
      "Automatically set threshold at doublet score = 0.31\n",
      "Detected doublet rate = 7.3%\n",
      "Estimated detectable doublet fraction = 63.1%\n",
      "Overall doublet rate:\n",
      "\tExpected   = 13.3%\n",
      "\tEstimated  = 11.5%\n",
      "57\n"
     ]
    },
    {
     "name": "stderr",
     "output_type": "stream",
     "text": [
      "Variable names are not unique. To make them unique, call `.var_names_make_unique`.\n",
      "Variable names are not unique. To make them unique, call `.var_names_make_unique`.\n",
      "/home/jonathan/miniconda3/envs/env3/lib/python3.8/site-packages/scanpy/preprocessing/_normalization.py:155: UserWarning: Revieved a view of an AnnData. Making a copy.\n"
     ]
    },
    {
     "name": "stdout",
     "output_type": "stream",
     "text": [
      "Automatically set threshold at doublet score = 0.29\n",
      "Detected doublet rate = 0.7%\n",
      "Estimated detectable doublet fraction = 38.7%\n",
      "Overall doublet rate:\n",
      "\tExpected   = 2.8%\n",
      "\tEstimated  = 1.8%\n",
      "58\n"
     ]
    },
    {
     "name": "stderr",
     "output_type": "stream",
     "text": [
      "Variable names are not unique. To make them unique, call `.var_names_make_unique`.\n",
      "Variable names are not unique. To make them unique, call `.var_names_make_unique`.\n",
      "/home/jonathan/miniconda3/envs/env3/lib/python3.8/site-packages/scanpy/preprocessing/_normalization.py:155: UserWarning: Revieved a view of an AnnData. Making a copy.\n"
     ]
    },
    {
     "name": "stdout",
     "output_type": "stream",
     "text": [
      "Automatically set threshold at doublet score = 0.30\n",
      "Detected doublet rate = 3.3%\n",
      "Estimated detectable doublet fraction = 42.2%\n",
      "Overall doublet rate:\n",
      "\tExpected   = 7.6%\n",
      "\tEstimated  = 7.7%\n",
      "59\n"
     ]
    },
    {
     "name": "stderr",
     "output_type": "stream",
     "text": [
      "Variable names are not unique. To make them unique, call `.var_names_make_unique`.\n",
      "Variable names are not unique. To make them unique, call `.var_names_make_unique`.\n",
      "/home/jonathan/miniconda3/envs/env3/lib/python3.8/site-packages/scanpy/preprocessing/_normalization.py:155: UserWarning: Revieved a view of an AnnData. Making a copy.\n"
     ]
    },
    {
     "name": "stdout",
     "output_type": "stream",
     "text": [
      "Automatically set threshold at doublet score = 0.36\n",
      "Detected doublet rate = 0.1%\n",
      "Estimated detectable doublet fraction = 5.8%\n",
      "Overall doublet rate:\n",
      "\tExpected   = 2.9%\n",
      "\tEstimated  = 2.4%\n",
      "60\n"
     ]
    },
    {
     "name": "stderr",
     "output_type": "stream",
     "text": [
      "Variable names are not unique. To make them unique, call `.var_names_make_unique`.\n",
      "Variable names are not unique. To make them unique, call `.var_names_make_unique`.\n",
      "/home/jonathan/miniconda3/envs/env3/lib/python3.8/site-packages/scanpy/preprocessing/_normalization.py:155: UserWarning: Revieved a view of an AnnData. Making a copy.\n"
     ]
    },
    {
     "name": "stdout",
     "output_type": "stream",
     "text": [
      "Automatically set threshold at doublet score = 0.24\n",
      "Detected doublet rate = 7.1%\n",
      "Estimated detectable doublet fraction = 66.0%\n",
      "Overall doublet rate:\n",
      "\tExpected   = 10.8%\n",
      "\tEstimated  = 10.7%\n",
      "61\n"
     ]
    },
    {
     "name": "stderr",
     "output_type": "stream",
     "text": [
      "Variable names are not unique. To make them unique, call `.var_names_make_unique`.\n",
      "Variable names are not unique. To make them unique, call `.var_names_make_unique`.\n",
      "/home/jonathan/miniconda3/envs/env3/lib/python3.8/site-packages/scanpy/preprocessing/_normalization.py:155: UserWarning: Revieved a view of an AnnData. Making a copy.\n"
     ]
    },
    {
     "name": "stdout",
     "output_type": "stream",
     "text": [
      "Automatically set threshold at doublet score = 0.69\n",
      "Detected doublet rate = 0.1%\n",
      "Estimated detectable doublet fraction = 7.2%\n",
      "Overall doublet rate:\n",
      "\tExpected   = 7.0%\n",
      "\tEstimated  = 1.3%\n",
      "62\n"
     ]
    },
    {
     "name": "stderr",
     "output_type": "stream",
     "text": [
      "Variable names are not unique. To make them unique, call `.var_names_make_unique`.\n",
      "Variable names are not unique. To make them unique, call `.var_names_make_unique`.\n",
      "/home/jonathan/miniconda3/envs/env3/lib/python3.8/site-packages/scanpy/preprocessing/_normalization.py:155: UserWarning: Revieved a view of an AnnData. Making a copy.\n"
     ]
    },
    {
     "name": "stdout",
     "output_type": "stream",
     "text": [
      "Automatically set threshold at doublet score = 0.33\n",
      "Detected doublet rate = 2.5%\n",
      "Estimated detectable doublet fraction = 43.1%\n",
      "Overall doublet rate:\n",
      "\tExpected   = 7.7%\n",
      "\tEstimated  = 5.7%\n",
      "63\n"
     ]
    },
    {
     "name": "stderr",
     "output_type": "stream",
     "text": [
      "Variable names are not unique. To make them unique, call `.var_names_make_unique`.\n",
      "Variable names are not unique. To make them unique, call `.var_names_make_unique`.\n",
      "/home/jonathan/miniconda3/envs/env3/lib/python3.8/site-packages/scanpy/preprocessing/_normalization.py:155: UserWarning: Revieved a view of an AnnData. Making a copy.\n"
     ]
    },
    {
     "name": "stdout",
     "output_type": "stream",
     "text": [
      "Automatically set threshold at doublet score = 0.34\n",
      "Detected doublet rate = 1.9%\n",
      "Estimated detectable doublet fraction = 33.3%\n",
      "Overall doublet rate:\n",
      "\tExpected   = 6.6%\n",
      "\tEstimated  = 5.6%\n",
      "64\n"
     ]
    },
    {
     "name": "stderr",
     "output_type": "stream",
     "text": [
      "Variable names are not unique. To make them unique, call `.var_names_make_unique`.\n",
      "Variable names are not unique. To make them unique, call `.var_names_make_unique`.\n",
      "/home/jonathan/miniconda3/envs/env3/lib/python3.8/site-packages/scanpy/preprocessing/_normalization.py:155: UserWarning: Revieved a view of an AnnData. Making a copy.\n"
     ]
    },
    {
     "name": "stdout",
     "output_type": "stream",
     "text": [
      "Automatically set threshold at doublet score = 0.49\n",
      "Detected doublet rate = 0.2%\n",
      "Estimated detectable doublet fraction = 4.6%\n",
      "Overall doublet rate:\n",
      "\tExpected   = 4.1%\n",
      "\tEstimated  = 4.3%\n",
      "65\n"
     ]
    },
    {
     "name": "stderr",
     "output_type": "stream",
     "text": [
      "Variable names are not unique. To make them unique, call `.var_names_make_unique`.\n",
      "Variable names are not unique. To make them unique, call `.var_names_make_unique`.\n",
      "/home/jonathan/miniconda3/envs/env3/lib/python3.8/site-packages/scanpy/preprocessing/_normalization.py:155: UserWarning: Revieved a view of an AnnData. Making a copy.\n"
     ]
    },
    {
     "name": "stdout",
     "output_type": "stream",
     "text": [
      "Automatically set threshold at doublet score = 0.61\n",
      "Detected doublet rate = 0.0%\n",
      "Estimated detectable doublet fraction = 4.0%\n",
      "Overall doublet rate:\n",
      "\tExpected   = 5.4%\n",
      "\tEstimated  = 1.1%\n",
      "66\n"
     ]
    },
    {
     "name": "stderr",
     "output_type": "stream",
     "text": [
      "Variable names are not unique. To make them unique, call `.var_names_make_unique`.\n",
      "Variable names are not unique. To make them unique, call `.var_names_make_unique`.\n",
      "/home/jonathan/miniconda3/envs/env3/lib/python3.8/site-packages/scanpy/preprocessing/_normalization.py:155: UserWarning: Revieved a view of an AnnData. Making a copy.\n"
     ]
    },
    {
     "name": "stdout",
     "output_type": "stream",
     "text": [
      "Automatically set threshold at doublet score = 0.51\n",
      "Detected doublet rate = 0.6%\n",
      "Estimated detectable doublet fraction = 29.2%\n",
      "Overall doublet rate:\n",
      "\tExpected   = 7.3%\n",
      "\tEstimated  = 2.1%\n",
      "67\n"
     ]
    },
    {
     "name": "stderr",
     "output_type": "stream",
     "text": [
      "Variable names are not unique. To make them unique, call `.var_names_make_unique`.\n",
      "Variable names are not unique. To make them unique, call `.var_names_make_unique`.\n",
      "/home/jonathan/miniconda3/envs/env3/lib/python3.8/site-packages/scanpy/preprocessing/_normalization.py:155: UserWarning: Revieved a view of an AnnData. Making a copy.\n"
     ]
    },
    {
     "name": "stdout",
     "output_type": "stream",
     "text": [
      "Automatically set threshold at doublet score = 0.65\n",
      "Detected doublet rate = 0.1%\n",
      "Estimated detectable doublet fraction = 15.8%\n",
      "Overall doublet rate:\n",
      "\tExpected   = 6.5%\n",
      "\tEstimated  = 0.9%\n",
      "68\n"
     ]
    },
    {
     "name": "stderr",
     "output_type": "stream",
     "text": [
      "Variable names are not unique. To make them unique, call `.var_names_make_unique`.\n",
      "Variable names are not unique. To make them unique, call `.var_names_make_unique`.\n",
      "/home/jonathan/miniconda3/envs/env3/lib/python3.8/site-packages/scanpy/preprocessing/_normalization.py:155: UserWarning: Revieved a view of an AnnData. Making a copy.\n"
     ]
    },
    {
     "name": "stdout",
     "output_type": "stream",
     "text": [
      "Automatically set threshold at doublet score = 0.28\n",
      "Detected doublet rate = 2.6%\n",
      "Estimated detectable doublet fraction = 51.1%\n",
      "Overall doublet rate:\n",
      "\tExpected   = 6.9%\n",
      "\tEstimated  = 5.1%\n",
      "69\n"
     ]
    },
    {
     "name": "stderr",
     "output_type": "stream",
     "text": [
      "Variable names are not unique. To make them unique, call `.var_names_make_unique`.\n",
      "Variable names are not unique. To make them unique, call `.var_names_make_unique`.\n",
      "/home/jonathan/miniconda3/envs/env3/lib/python3.8/site-packages/scanpy/preprocessing/_normalization.py:155: UserWarning: Revieved a view of an AnnData. Making a copy.\n"
     ]
    },
    {
     "name": "stdout",
     "output_type": "stream",
     "text": [
      "Automatically set threshold at doublet score = 0.60\n",
      "Detected doublet rate = 0.2%\n",
      "Estimated detectable doublet fraction = 20.4%\n",
      "Overall doublet rate:\n",
      "\tExpected   = 7.3%\n",
      "\tEstimated  = 1.0%\n",
      "70\n"
     ]
    },
    {
     "name": "stderr",
     "output_type": "stream",
     "text": [
      "Variable names are not unique. To make them unique, call `.var_names_make_unique`.\n",
      "Variable names are not unique. To make them unique, call `.var_names_make_unique`.\n",
      "/home/jonathan/miniconda3/envs/env3/lib/python3.8/site-packages/scanpy/preprocessing/_normalization.py:155: UserWarning: Revieved a view of an AnnData. Making a copy.\n"
     ]
    },
    {
     "name": "stdout",
     "output_type": "stream",
     "text": [
      "Automatically set threshold at doublet score = 0.53\n",
      "Detected doublet rate = 0.4%\n",
      "Estimated detectable doublet fraction = 25.6%\n",
      "Overall doublet rate:\n",
      "\tExpected   = 4.9%\n",
      "\tEstimated  = 1.4%\n",
      "71\n"
     ]
    },
    {
     "name": "stderr",
     "output_type": "stream",
     "text": [
      "Variable names are not unique. To make them unique, call `.var_names_make_unique`.\n",
      "Variable names are not unique. To make them unique, call `.var_names_make_unique`.\n",
      "/home/jonathan/miniconda3/envs/env3/lib/python3.8/site-packages/scanpy/preprocessing/_normalization.py:155: UserWarning: Revieved a view of an AnnData. Making a copy.\n"
     ]
    },
    {
     "name": "stdout",
     "output_type": "stream",
     "text": [
      "Automatically set threshold at doublet score = 0.27\n",
      "Detected doublet rate = 0.3%\n",
      "Estimated detectable doublet fraction = 13.5%\n",
      "Overall doublet rate:\n",
      "\tExpected   = 2.2%\n",
      "\tEstimated  = 2.2%\n",
      "72\n"
     ]
    },
    {
     "name": "stderr",
     "output_type": "stream",
     "text": [
      "Variable names are not unique. To make them unique, call `.var_names_make_unique`.\n",
      "Variable names are not unique. To make them unique, call `.var_names_make_unique`.\n",
      "/home/jonathan/miniconda3/envs/env3/lib/python3.8/site-packages/scanpy/preprocessing/_normalization.py:155: UserWarning: Revieved a view of an AnnData. Making a copy.\n"
     ]
    },
    {
     "name": "stdout",
     "output_type": "stream",
     "text": [
      "Automatically set threshold at doublet score = 0.23\n",
      "Detected doublet rate = 5.1%\n",
      "Estimated detectable doublet fraction = 66.8%\n",
      "Overall doublet rate:\n",
      "\tExpected   = 7.1%\n",
      "\tEstimated  = 7.6%\n",
      "73\n"
     ]
    },
    {
     "name": "stderr",
     "output_type": "stream",
     "text": [
      "Variable names are not unique. To make them unique, call `.var_names_make_unique`.\n",
      "Variable names are not unique. To make them unique, call `.var_names_make_unique`.\n",
      "/home/jonathan/miniconda3/envs/env3/lib/python3.8/site-packages/scanpy/preprocessing/_normalization.py:155: UserWarning: Revieved a view of an AnnData. Making a copy.\n"
     ]
    },
    {
     "name": "stdout",
     "output_type": "stream",
     "text": [
      "Automatically set threshold at doublet score = 0.59\n",
      "Detected doublet rate = 0.1%\n",
      "Estimated detectable doublet fraction = 25.7%\n",
      "Overall doublet rate:\n",
      "\tExpected   = 5.6%\n",
      "\tEstimated  = 0.4%\n",
      "74\n"
     ]
    },
    {
     "name": "stderr",
     "output_type": "stream",
     "text": [
      "Variable names are not unique. To make them unique, call `.var_names_make_unique`.\n",
      "Variable names are not unique. To make them unique, call `.var_names_make_unique`.\n",
      "/home/jonathan/miniconda3/envs/env3/lib/python3.8/site-packages/scanpy/preprocessing/_normalization.py:155: UserWarning: Revieved a view of an AnnData. Making a copy.\n"
     ]
    },
    {
     "name": "stdout",
     "output_type": "stream",
     "text": [
      "Automatically set threshold at doublet score = 0.40\n",
      "Detected doublet rate = 0.3%\n",
      "Estimated detectable doublet fraction = 28.8%\n",
      "Overall doublet rate:\n",
      "\tExpected   = 3.4%\n",
      "\tEstimated  = 1.0%\n",
      "75\n"
     ]
    },
    {
     "name": "stderr",
     "output_type": "stream",
     "text": [
      "Variable names are not unique. To make them unique, call `.var_names_make_unique`.\n",
      "Variable names are not unique. To make them unique, call `.var_names_make_unique`.\n",
      "/home/jonathan/miniconda3/envs/env3/lib/python3.8/site-packages/scanpy/preprocessing/_normalization.py:155: UserWarning: Revieved a view of an AnnData. Making a copy.\n"
     ]
    },
    {
     "name": "stdout",
     "output_type": "stream",
     "text": [
      "Automatically set threshold at doublet score = 0.27\n",
      "Detected doublet rate = 0.7%\n",
      "Estimated detectable doublet fraction = 47.3%\n",
      "Overall doublet rate:\n",
      "\tExpected   = 4.7%\n",
      "\tEstimated  = 1.6%\n",
      "76\n"
     ]
    },
    {
     "name": "stderr",
     "output_type": "stream",
     "text": [
      "Variable names are not unique. To make them unique, call `.var_names_make_unique`.\n",
      "Variable names are not unique. To make them unique, call `.var_names_make_unique`.\n",
      "/home/jonathan/miniconda3/envs/env3/lib/python3.8/site-packages/scanpy/preprocessing/_normalization.py:155: UserWarning: Revieved a view of an AnnData. Making a copy.\n"
     ]
    },
    {
     "name": "stdout",
     "output_type": "stream",
     "text": [
      "Automatically set threshold at doublet score = 0.30\n",
      "Detected doublet rate = 0.2%\n",
      "Estimated detectable doublet fraction = 20.2%\n",
      "Overall doublet rate:\n",
      "\tExpected   = 2.5%\n",
      "\tEstimated  = 0.9%\n",
      "77\n"
     ]
    },
    {
     "name": "stderr",
     "output_type": "stream",
     "text": [
      "Variable names are not unique. To make them unique, call `.var_names_make_unique`.\n",
      "Variable names are not unique. To make them unique, call `.var_names_make_unique`.\n",
      "/home/jonathan/miniconda3/envs/env3/lib/python3.8/site-packages/scanpy/preprocessing/_normalization.py:155: UserWarning: Revieved a view of an AnnData. Making a copy.\n"
     ]
    },
    {
     "name": "stdout",
     "output_type": "stream",
     "text": [
      "Automatically set threshold at doublet score = 0.29\n",
      "Detected doublet rate = 0.2%\n",
      "Estimated detectable doublet fraction = 39.9%\n",
      "Overall doublet rate:\n",
      "\tExpected   = 2.6%\n",
      "\tEstimated  = 0.5%\n",
      "78\n"
     ]
    },
    {
     "name": "stderr",
     "output_type": "stream",
     "text": [
      "Variable names are not unique. To make them unique, call `.var_names_make_unique`.\n",
      "Variable names are not unique. To make them unique, call `.var_names_make_unique`.\n",
      "/home/jonathan/miniconda3/envs/env3/lib/python3.8/site-packages/scanpy/preprocessing/_normalization.py:155: UserWarning: Revieved a view of an AnnData. Making a copy.\n"
     ]
    },
    {
     "name": "stdout",
     "output_type": "stream",
     "text": [
      "Automatically set threshold at doublet score = 0.08\n",
      "Detected doublet rate = 0.4%\n",
      "Estimated detectable doublet fraction = 32.7%\n",
      "Overall doublet rate:\n",
      "\tExpected   = 0.9%\n",
      "\tEstimated  = 1.1%\n"
     ]
    }
   ],
   "source": [
    "adatas = []\n",
    "for i in range(df.shape[0]):\n",
    "    print(i)\n",
    "    adata = sc.read_10x_h5('../'+df.iloc[i].h5)\n",
    "    adata.var_names_make_unique()\n",
    "    adata.var['mt'] = adata.var_names.str.startswith('MT-')\n",
    "    sc.pp.calculate_qc_metrics(adata, qc_vars=['mt'], percent_top=None, log1p=False, inplace=True)\n",
    "    adata = adata[(adata.obs['n_genes_by_counts'] >= 300), :]\n",
    "    cello = pd.read_csv(df.iloc[i].cello, sep='\\t', index_col=0)\n",
    "    adata.obs = pd.merge(adata.obs, cello, left_index=True, right_index=True, how='left')\n",
    "    adata.obs['project'] = df.iloc[i].project\n",
    "    adata.obs['run'] = df.iloc[i].run\n",
    "    adata.obs['sample'] = df.iloc[i]['sample']\n",
    "    adata.obs_names = df.iloc[i]['sample'] +'_'+ adata.obs_names.str.strip('-1')\n",
    "    sce.pp.scrublet(adata, expected_doublet_rate = (adata.shape[0] * 0.008) / 1000)\n",
    "    adatas.append(adata)"
   ]
  },
  {
   "cell_type": "code",
   "execution_count": 5,
   "id": "31e85c94-ad11-45f4-8233-9e5e3fd9ef62",
   "metadata": {},
   "outputs": [],
   "source": [
    "adata = ad.concat(adatas)"
   ]
  },
  {
   "cell_type": "code",
   "execution_count": 6,
   "id": "2e112b1e-f761-4388-a24d-0319098894d8",
   "metadata": {},
   "outputs": [],
   "source": [
    "adata.var['mt'] = adata.var_names.str.startswith('MT-')\n",
    "sc.pp.calculate_qc_metrics(adata, qc_vars=['mt'], percent_top=None, log1p=False, inplace=True)"
   ]
  },
  {
   "cell_type": "code",
   "execution_count": 7,
   "id": "05a44352-0f33-4192-9714-41479bbdbf64",
   "metadata": {},
   "outputs": [],
   "source": [
    "adata = adata[(adata.obs['total_counts'] > 500) & \n",
    "              (adata.obs['n_genes_by_counts'] > 300) &\n",
    "              (adata.obs['pct_counts_mt'] < 10) &\n",
    "              (adata.obs['predicted_doublet'] == False), :]"
   ]
  },
  {
   "cell_type": "code",
   "execution_count": 8,
   "id": "a0ddbece-a388-43e1-9f84-fa8fb8a8f7d6",
   "metadata": {},
   "outputs": [
    {
     "data": {
      "text/plain": [
       "View of AnnData object with n_obs × n_vars = 385216 × 31915\n",
       "    obs: 'n_genes_by_counts', 'total_counts', 'total_counts_mt', 'pct_counts_mt', 'most_specific_cell_type', 'project', 'run', 'sample', 'doublet_score', 'predicted_doublet'\n",
       "    var: 'mt', 'n_cells_by_counts', 'mean_counts', 'pct_dropout_by_counts', 'total_counts'"
      ]
     },
     "execution_count": 8,
     "metadata": {},
     "output_type": "execute_result"
    }
   ],
   "source": [
    "adata"
   ]
  },
  {
   "cell_type": "code",
   "execution_count": 12,
   "id": "75ff53ac-5673-40b9-a783-9eac21d54e11",
   "metadata": {},
   "outputs": [],
   "source": [
    "adata = adata[adata.obs['sample'].isin(\n",
    "    adata.obs.value_counts('sample')[adata.obs.value_counts('sample') > 1000].index\n",
    "), :]"
   ]
  },
  {
   "cell_type": "code",
   "execution_count": null,
   "id": "b0ba72b1-876b-43d3-b439-5da9ce50333f",
   "metadata": {},
   "outputs": [],
   "source": [
    "sc.pp.highly_variable_genes(\n",
    "    adata,\n",
    "    n_top_genes=2200,\n",
    "    subset=False,\n",
    "    flavor=\"seurat_v3\",\n",
    "    batch_key=\"project\", span=0.5\n",
    ")"
   ]
  },
  {
   "cell_type": "code",
   "execution_count": null,
   "id": "2cf9cb2e-8b0f-4f2d-8db0-8cd019550dc9",
   "metadata": {},
   "outputs": [],
   "source": [
    "adata.var.loc[adata.var['mt'], 'highly_variable'] = False\n",
    "adata.var.loc[adata.var_names.str.match('^IG[HIKL]'), 'highly_variable'] = False"
   ]
  },
  {
   "cell_type": "code",
   "execution_count": null,
   "id": "86ff769c-75a6-4de2-9966-d8a447e3c99b",
   "metadata": {},
   "outputs": [],
   "source": [
    "adata.raw = adata.copy()"
   ]
  },
  {
   "cell_type": "code",
   "execution_count": null,
   "id": "1bf50b7c-3cb7-4007-8d6b-efa12e22c1e9",
   "metadata": {},
   "outputs": [],
   "source": [
    "sc.pp.normalize_total(adata, target_sum=1e4)\n",
    "sc.pp.log1p(adata)"
   ]
  },
  {
   "cell_type": "code",
   "execution_count": null,
   "id": "e8e4c45e-60ee-4e68-8037-5da2ea66c311",
   "metadata": {},
   "outputs": [],
   "source": [
    "adata = adata[:, adata.var.highly_variable]"
   ]
  },
  {
   "cell_type": "code",
   "execution_count": null,
   "id": "108941c5-41df-4061-9c6d-e6798aaee8b7",
   "metadata": {},
   "outputs": [],
   "source": [
    "sc.tl.pca(adata)"
   ]
  },
  {
   "cell_type": "code",
   "execution_count": null,
   "id": "73c71eb8-b2af-4f8f-b628-7056dd7e7cd3",
   "metadata": {},
   "outputs": [],
   "source": [
    "bbknn.bbknn(adata, batch_key='sample', n_pcs=20)"
   ]
  },
  {
   "cell_type": "code",
   "execution_count": null,
   "id": "0a1f98d3-03b5-41ad-9141-646615918e04",
   "metadata": {},
   "outputs": [],
   "source": [
    "sc.tl.umap(adata)\n",
    "adata.obs['umap_1'] = adata.obsm['X_umap'][:,0]\n",
    "adata.obs['umap_2'] = adata.obsm['X_umap'][:,1]"
   ]
  },
  {
   "cell_type": "code",
   "execution_count": null,
   "id": "af1cb963-4a67-4a25-8472-ccfd2e48cedb",
   "metadata": {},
   "outputs": [],
   "source": [
    "adata.write('../data/01_load.h5ad')"
   ]
  },
  {
   "cell_type": "code",
   "execution_count": null,
   "id": "dcc9f100-9245-4f90-a772-a17d1d056ae4",
   "metadata": {},
   "outputs": [],
   "source": []
  }
 ],
 "metadata": {
  "kernelspec": {
   "display_name": "Python [conda env:env3]",
   "language": "python",
   "name": "conda-env-env3-py"
  },
  "language_info": {
   "codemirror_mode": {
    "name": "ipython",
    "version": 3
   },
   "file_extension": ".py",
   "mimetype": "text/x-python",
   "name": "python",
   "nbconvert_exporter": "python",
   "pygments_lexer": "ipython3",
   "version": "3.8.12"
  }
 },
 "nbformat": 4,
 "nbformat_minor": 5
}
