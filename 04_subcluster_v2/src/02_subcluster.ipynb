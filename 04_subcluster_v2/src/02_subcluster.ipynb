{
 "cells": [
  {
   "cell_type": "code",
   "execution_count": 20,
   "id": "bf902407-ab93-46bc-92b0-6954bd803fed",
   "metadata": {},
   "outputs": [],
   "source": [
    "import pandas as pd\n",
    "import plotnine as p\n",
    "import anndata as ad\n",
    "import scanpy as sc\n",
    "import scanpy.external as sce\n",
    "import numpy as np\n",
    "import matplotlib as mpl\n",
    "import bbknn\n",
    "import re\n",
    "import os"
   ]
  },
  {
   "cell_type": "code",
   "execution_count": 2,
   "id": "c31b1991-4345-4819-8930-ddff412d8f70",
   "metadata": {
    "tags": [
     "parameters"
    ]
   },
   "outputs": [],
   "source": [
    "anno = ''"
   ]
  },
  {
   "cell_type": "code",
   "execution_count": 4,
   "id": "a263a541-48c9-4ee1-8549-eb25ac99eedd",
   "metadata": {},
   "outputs": [],
   "source": [
    "adata = sc.read('data/01_compartments.h5ad')"
   ]
  },
  {
   "cell_type": "code",
   "execution_count": 5,
   "id": "d33c6ab9-0831-4f84-8a04-bd7f9fd2d200",
   "metadata": {},
   "outputs": [],
   "source": [
    "adata = adata.raw.to_adata()"
   ]
  },
  {
   "cell_type": "code",
   "execution_count": null,
   "id": "55e8b1d0-9a13-4b25-840d-3624ffa90dcb",
   "metadata": {},
   "outputs": [],
   "source": [
    "min_cells_subcluster = 100"
   ]
  },
  {
   "cell_type": "code",
   "execution_count": 6,
   "id": "0a29e812-6aca-495b-a3c0-b9e3361dcf8a",
   "metadata": {},
   "outputs": [],
   "source": [
    "default_res = 0.8\n",
    "\n",
    "res = {'Astrocytes': default_res,\n",
    " 'B': default_res,\n",
    " 'Blood.Endothelial': default_res,\n",
    " 'Chondrocyte': default_res,\n",
    " 'Cumulus': default_res,\n",
    " 'Dendritic': default_res,\n",
    " 'Epi.NonSecretory': default_res,\n",
    " 'Epi.Secretory': default_res,\n",
    " 'Fibroblast': default_res,\n",
    " 'Lymph.Endothelial': default_res,\n",
    " 'MAST': default_res,\n",
    " 'Melanocyte': default_res,\n",
    " 'Microglia': default_res,\n",
    " 'Mono.Mac': default_res,\n",
    " 'Neuron.GABA': default_res,\n",
    " 'Neuron.GLU': default_res,\n",
    " 'OPC': default_res,\n",
    " 'Oligodendrocyte': default_res,\n",
    " 'Plasma': default_res,\n",
    " 'Smooth.Muscle': default_res,\n",
    " 'T': 1.5}"
   ]
  },
  {
   "cell_type": "code",
   "execution_count": 10,
   "id": "13c1e0c1-b729-436e-afcd-cb85266d9be3",
   "metadata": {},
   "outputs": [],
   "source": [
    "adata_sub = adata[adata.obs['Broad_Celltype'] == anno, ]\n",
    "\n",
    "x = adata_sub.obs.value_counts('sample') \n",
    "x = x[x > 50].index.astype(str)\n",
    "adata_sub = adata_sub[adata_sub.obs['sample'].isin(x), :]\n",
    "sc.pp.highly_variable_genes(adata_sub, n_top_genes=2200, flavor=\"seurat_v3\", batch_key='project', span=0.75)\n",
    "adata_sub.raw = adata_sub\n",
    "\n",
    "adata_sub.var.loc[adata_sub.var['mt'], 'highly_variable'] = False\n",
    "adata_sub.var.loc[adata_sub.var_names.str.match('^IG[HIKL]'), 'highly_variable'] = False\n",
    "    \n",
    "sc.pp.normalize_total(adata_sub)\n",
    "sc.pp.log1p(adata_sub)\n",
    "sc.tl.pca(adata_sub)\n",
    "\n",
    "# bbknn.bbknn(adata_sub, batch_key='sample', n_pcs=20)\n",
    "# sc.tl.umap(adata_sub)\n",
    "# adata_sub.obs['sub_umap_bbknn_1'] = adata_sub.obsm['X_umap'][:,0]\n",
    "# adata_sub.obs['sub_umap_bbknn_2'] = adata_sub.obsm['X_umap'][:,1]\n",
    "# sc.pl.umap(adata_sub, color='project')\n",
    "\n",
    "sce.pp.harmony_integrate(adata_sub, 'sample')\n",
    "sc.pp.neighbors(adata_sub, n_pcs=20, use_rep='X_pca_harmony')\n",
    "sc.tl.leiden(adata_sub, resolution=res[anno])\n",
    "sc.tl.umap(adata_sub)\n",
    "sc.tl.tsne(adata_sub, n_pcs= 20, use_rep='X_pca_harmony')\n",
    "\n",
    "adata_sub.obs['leiden'] = anno +'.'+ adata_sub.obs[\"leiden\"].astype(str)\n",
    "\n",
    "x = adata_sub.obs.pivot_table(columns=['leiden'],index=['Narrow_Celltype'], fill_value=0, aggfunc='size')\n",
    "x = x.idxmax(axis=0)[adata_sub.obs.leiden].to_frame().values\n",
    "adata_sub.obs['leiden_vote'] = x\n",
    "\n",
    "# x = adata_sub.obs.value_counts('leiden') \n",
    "# x = x[x >= min_cells_subcluster ].index.astype(str)\n",
    "# adata_sub = adata_sub[adata_sub.obs['leiden'].isin(x), :]\n",
    "\n",
    "adata_sub.obs['sub_umap_harmony_1'] = adata_sub.obsm['X_umap'][:,0]\n",
    "adata_sub.obs['sub_umap_harmony_2'] = adata_sub.obsm['X_umap'][:,1]\n",
    "#adata_sub.obs['sub_tsne_harmony_1'] = adata_sub.obsm['X_tsne'][:,0]\n",
    "#adata_sub.obs['sub_tsne_harmony_2'] = adata_sub.obsm['X_tsne'][:,1]"
   ]
  },
  {
   "cell_type": "code",
   "execution_count": null,
   "id": "613cd66e-73a8-4f5e-aab7-19ad5eacc8c2",
   "metadata": {},
   "outputs": [],
   "source": [
    "adata_sub.write('data/02_subcluster/' +anno + '.h5ad')\n",
    "adata_sub.obs.to_csv('data/02_subcluster/' +anno+ '.csv', index_label='barcode')"
   ]
  },
  {
   "cell_type": "code",
   "execution_count": null,
   "id": "b85877fd-8cf5-4f67-aaa3-cf82b4e945ea",
   "metadata": {},
   "outputs": [],
   "source": [
    "col = \"Narrow_Celltype\""
   ]
  },
  {
   "cell_type": "code",
   "execution_count": null,
   "id": "2a220d3c-ee4c-4b01-8737-fb771a65b54b",
   "metadata": {},
   "outputs": [],
   "source": [
    "if len(adata_sub.obs[col].unique()) > 1:\n",
    "    sc.tl.rank_genes_groups(adata_sub, col, method=\"wilcoxon\", use_raw=False)\n",
    "    for x in adata_sub.obs[col].unique().categories:\n",
    "        print(anno + \"  \" + x)\n",
    "        y = re.sub(r\"[\\s\\/]\", \"_\", x)\n",
    "        res = sc.get.rank_genes_groups_df(adata_sub, group=x)\n",
    "        os.makedirs(f\"out/DE/{col}_subtype/\", exist_ok=True)\n",
    "        res.to_csv(f\"out/DE/{col}_subtype/{y}.tab.gz\", sep=\"\\t\", index=False)"
   ]
  },
  {
   "cell_type": "code",
   "execution_count": null,
   "id": "b47afca0-8d40-4f2d-9b45-60241ba0e6fd",
   "metadata": {},
   "outputs": [],
   "source": [
    "col = \"leiden_vote\""
   ]
  },
  {
   "cell_type": "code",
   "execution_count": null,
   "id": "0df5f1fa-e63b-4bb9-8599-d9e58ffaf2f6",
   "metadata": {},
   "outputs": [],
   "source": [
    "if len(adata_sub.obs[col].unique()) > 1:\n",
    "    sc.tl.rank_genes_groups(adata_sub, col, method=\"wilcoxon\", use_raw=False)\n",
    "    for x in adata_sub.obs[col].unique().categories:\n",
    "        print(anno + \"  \" + x)\n",
    "        y = re.sub(r\"[\\s\\/]\", \"_\", x)\n",
    "        res = sc.get.rank_genes_groups_df(adata_sub, group=x)\n",
    "        os.makedirs(f\"out/DE/{col}_subtype/\", exist_ok=True)\n",
    "        res.to_csv(f\"out/DE/{col}_subtype/{y}.tab.gz\", sep=\"\\t\", index=False)"
   ]
  },
  {
   "cell_type": "code",
   "execution_count": null,
   "id": "28e5baaf-4c16-4c18-a41a-494bce4765e3",
   "metadata": {},
   "outputs": [],
   "source": [
    "col = \"leiden\""
   ]
  },
  {
   "cell_type": "code",
   "execution_count": null,
   "id": "39e5667f-a2ee-4e39-8a79-91356b70c7a7",
   "metadata": {},
   "outputs": [],
   "source": [
    "if len(adata_sub.obs[col].unique()) > 1:\n",
    "    sc.tl.rank_genes_groups(adata_sub, col, method=\"wilcoxon\", use_raw=False)\n",
    "    for x in adata_sub.obs[col].unique().categories:\n",
    "        print(anno + \"  \" + x)\n",
    "        y = re.sub(r\"[\\s\\/]\", \"_\", x)\n",
    "        res = sc.get.rank_genes_groups_df(adata_sub, group=x)\n",
    "        os.makedirs(f\"out/DE/{col}_subtype/\", exist_ok=True)\n",
    "        res.to_csv(f\"out/DE/{col}_subtype/{y}.tab.gz\", sep=\"\\t\", index=False)"
   ]
  }
 ],
 "metadata": {
  "kernelspec": {
   "display_name": "Python [conda env:env3]",
   "language": "python",
   "name": "conda-env-env3-py"
  },
  "language_info": {
   "codemirror_mode": {
    "name": "ipython",
    "version": 3
   },
   "file_extension": ".py",
   "mimetype": "text/x-python",
   "name": "python",
   "nbconvert_exporter": "python",
   "pygments_lexer": "ipython3",
   "version": "3.8.12"
  }
 },
 "nbformat": 4,
 "nbformat_minor": 5
}
